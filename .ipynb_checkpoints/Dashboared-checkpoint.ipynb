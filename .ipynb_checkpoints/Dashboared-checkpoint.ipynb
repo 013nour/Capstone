{
 "cells": [
  {
   "cell_type": "code",
   "execution_count": 1,
   "id": "b2f2ce44-54cc-4bef-96e3-e71d20c3e9fe",
   "metadata": {},
   "outputs": [],
   "source": [
    "import pickle\n",
    "import pandas as pd\n",
    "pd.set_option('display.max_columns', None)\n",
    "\n",
    "import numpy as np\n",
    "import matplotlib.pyplot as plt\n",
    "import plotly.express as px\n",
    "\n",
    "import warnings\n",
    "warnings.filterwarnings(\"ignore\")"
   ]
  },
  {
   "cell_type": "code",
   "execution_count": 97,
   "id": "92611b9d-ecaf-4fb7-8661-876eed22e2c6",
   "metadata": {},
   "outputs": [],
   "source": [
    "from dash import html\n",
    "from jupyter_dash import JupyterDash\n",
    "import dash\n",
    "from dash import Dash, dcc, html, Input, Output, callback, State\n",
    "import dash_bootstrap_components as dbc\n",
    "import jupyterlab_dash\n",
    "import dash_leaflet as dl\n",
    "from dash_leaflet import Map, TileLayer\n",
    "from dash_extensions.javascript import assign\n",
    "import re\n",
    "from dash_extensions.javascript import assign\n",
    "from dash_leaflet import Map, TileLayer"
   ]
  },
  {
   "cell_type": "code",
   "execution_count": 98,
   "id": "6797a806-0b72-4a50-84ac-a0175c9123fa",
   "metadata": {},
   "outputs": [],
   "source": [
    "shops = pd.read_csv('DashBoaredData/ClassifiedShopes.csv')\n",
    "rent = pd.read_csv('DashBoaredData/rent.csv')\n",
    "\n",
    "AgeGroupLabor = pd.read_csv('DashBoaredData/AgeGroupLabor.csv')\n",
    "AgeGroup = pd.read_csv('DashBoaredData/AgeGroup.csv')\n",
    "RiyadhPop = pd.read_csv('DashBoaredData/RiyadhPop.csv')\n",
    "\n",
    "DNN = pickle.load(open(\"SuccLocationDNN.pkl\", \"rb\"))\n",
    "scaler = pickle.load(open(\"scaler.pkl\", \"rb\"))"
   ]
  },
  {
   "cell_type": "code",
   "execution_count": 162,
   "id": "75febc54-dc77-4b50-be8b-0bcef85705c7",
   "metadata": {},
   "outputs": [
    {
     "data": {
      "application/vnd.plotly.v1+json": {
       "config": {
        "plotlyServerURL": "https://plot.ly"
       },
       "data": [
        {
         "marker": {
          "color": "#C7D0D7"
         },
         "orientation": "h",
         "text": [
          "100%",
          "100%",
          "100%",
          "100%",
          "100%",
          "100%"
         ],
         "textfont": {
          "color": "black"
         },
         "textposition": "inside",
         "type": "bar",
         "x": [
          40,
          40,
          40,
          40,
          40,
          40
         ],
         "y": [
          "Teens",
          "20s",
          "30s",
          "40s",
          "50s",
          "60s"
         ]
        },
        {
         "marker": {
          "color": "#657889"
         },
         "orientation": "h",
         "type": "bar",
         "x": [
          "100%",
          "100%",
          "100%",
          "100%",
          "100%",
          "100%"
         ],
         "y": [
          "Teens",
          "20s",
          "30s",
          "40s",
          "50s",
          "60s"
         ]
        }
       ],
       "layout": {
        "autosize": true,
        "barmode": "overlay",
        "font": {
         "family": "Times New Roman"
        },
        "showlegend": false,
        "template": {
         "data": {
          "pie": [
           {
            "automargin": true,
            "type": "pie"
           }
          ],
          "scatter": [
           {
            "line": {
             "width": 3
            },
            "marker": {
             "size": 9
            },
            "type": "scatter"
           }
          ],
          "scatter3d": [
           {
            "line": {
             "width": 3
            },
            "marker": {
             "size": 9
            },
            "type": "scatter3d"
           }
          ],
          "scattergeo": [
           {
            "line": {
             "width": 3
            },
            "marker": {
             "size": 9
            },
            "type": "scattergeo"
           }
          ],
          "scattergl": [
           {
            "line": {
             "width": 3
            },
            "marker": {
             "size": 9
            },
            "type": "scattergl"
           }
          ],
          "scatterpolar": [
           {
            "line": {
             "width": 3
            },
            "marker": {
             "size": 9
            },
            "type": "scatterpolar"
           }
          ],
          "scatterpolargl": [
           {
            "line": {
             "width": 3
            },
            "marker": {
             "size": 9
            },
            "type": "scatterpolargl"
           }
          ],
          "scatterternary": [
           {
            "line": {
             "width": 3
            },
            "marker": {
             "size": 9
            },
            "type": "scatterternary"
           }
          ],
          "table": [
           {
            "cells": {
             "height": 30
            },
            "header": {
             "height": 36
            },
            "type": "table"
           }
          ]
         },
         "layout": {
          "font": {
           "size": 18
          },
          "xaxis": {
           "title": {
            "standoff": 15
           }
          },
          "yaxis": {
           "title": {
            "standoff": 15
           }
          }
         }
        },
        "title": {
         "font": {
          "family": "Times New Roman"
         },
         "text": "Age Group Distribution"
        },
        "xaxis": {
         "range": [
          0,
          40
         ],
         "type": "linear",
         "visible": false
        },
        "yaxis": {
         "autorange": true,
         "categoryorder": "total ascending",
         "range": [
          -0.5,
          5.5
         ],
         "tickfont": {
          "color": "white"
         },
         "ticklabelposition": "inside",
         "tickmode": "array",
         "ticktext": [
          "Teens",
          "20s",
          "30s",
          "40s",
          "50s",
          "60s"
         ],
         "tickvals": [
          "Teens",
          "20s",
          "30s",
          "40s",
          "50s",
          "60s"
         ],
         "type": "category"
        }
       }
      },
      "image/png": "[encoded data removed]",
      "text/html": [
       "<div>                            <div id=\"6349ee60-0e84-4f48-b6d0-03f2a5fb6b57\" class=\"plotly-graph-div\" style=\"height:525px; width:100%;\"></div>            <script type=\"text/javascript\">                require([\"plotly\"], function(Plotly) {                    window.PLOTLYENV=window.PLOTLYENV || {};                                    if (document.getElementById(\"6349ee60-0e84-4f48-b6d0-03f2a5fb6b57\")) {                    Plotly.newPlot(                        \"6349ee60-0e84-4f48-b6d0-03f2a5fb6b57\",                        [{\"marker\":{\"color\":\"#C7D0D7\"},\"orientation\":\"h\",\"text\":[\"100%\",\"100%\",\"100%\",\"100%\",\"100%\",\"100%\"],\"textfont\":{\"color\":\"black\"},\"textposition\":\"inside\",\"x\":[40,40,40,40,40,40],\"y\":[\"Teens\",\"20s\",\"30s\",\"40s\",\"50s\",\"60s\"],\"type\":\"bar\"},{\"marker\":{\"color\":\"#657889\"},\"orientation\":\"h\",\"x\":[\"100%\",\"100%\",\"100%\",\"100%\",\"100%\",\"100%\"],\"y\":[\"Teens\",\"20s\",\"30s\",\"40s\",\"50s\",\"60s\"],\"type\":\"bar\"}],                        {\"template\":{\"data\":{\"pie\":[{\"automargin\":true,\"type\":\"pie\"}],\"scatter3d\":[{\"line\":{\"width\":3},\"marker\":{\"size\":9},\"type\":\"scatter3d\"}],\"scattergeo\":[{\"line\":{\"width\":3},\"marker\":{\"size\":9},\"type\":\"scattergeo\"}],\"scattergl\":[{\"line\":{\"width\":3},\"marker\":{\"size\":9},\"type\":\"scattergl\"}],\"scatterpolargl\":[{\"line\":{\"width\":3},\"marker\":{\"size\":9},\"type\":\"scatterpolargl\"}],\"scatterpolar\":[{\"line\":{\"width\":3},\"marker\":{\"size\":9},\"type\":\"scatterpolar\"}],\"scatter\":[{\"line\":{\"width\":3},\"marker\":{\"size\":9},\"type\":\"scatter\"}],\"scatterternary\":[{\"line\":{\"width\":3},\"marker\":{\"size\":9},\"type\":\"scatterternary\"}],\"table\":[{\"cells\":{\"height\":30},\"header\":{\"height\":36},\"type\":\"table\"}]},\"layout\":{\"font\":{\"size\":18},\"xaxis\":{\"title\":{\"standoff\":15}},\"yaxis\":{\"title\":{\"standoff\":15}}}},\"title\":{\"text\":\"Age Group Distribution\",\"font\":{\"family\":\"Times New Roman\"}},\"font\":{\"family\":\"Times New Roman\"},\"barmode\":\"overlay\",\"showlegend\":false,\"yaxis\":{\"tickfont\":{\"color\":\"white\"},\"tickmode\":\"array\",\"categoryorder\":\"total ascending\",\"tickvals\":[\"Teens\",\"20s\",\"30s\",\"40s\",\"50s\",\"60s\"],\"ticktext\":[\"Teens\",\"20s\",\"30s\",\"40s\",\"50s\",\"60s\"],\"ticklabelposition\":\"inside\"},\"xaxis\":{\"range\":[0,40],\"visible\":false}},                        {\"responsive\": true}                    ).then(function(){\n",
       "                            \n",
       "var gd = document.getElementById('6349ee60-0e84-4f48-b6d0-03f2a5fb6b57');\n",
       "var x = new MutationObserver(function (mutations, observer) {{\n",
       "        var display = window.getComputedStyle(gd).display;\n",
       "        if (!display || display === 'none') {{\n",
       "            console.log([gd, 'removed!']);\n",
       "            Plotly.purge(gd);\n",
       "            observer.disconnect();\n",
       "        }}\n",
       "}});\n",
       "\n",
       "// Listen for the removal of the full notebook cells\n",
       "var notebookContainer = gd.closest('#notebook-container');\n",
       "if (notebookContainer) {{\n",
       "    x.observe(notebookContainer, {childList: true});\n",
       "}}\n",
       "\n",
       "// Listen for the clearing of the current output cell\n",
       "var outputEl = gd.closest('.output');\n",
       "if (outputEl) {{\n",
       "    x.observe(outputEl, {childList: true});\n",
       "}}\n",
       "\n",
       "                        })                };                });            </script>        </div>"
      ]
     },
     "metadata": {},
     "output_type": "display_data"
    }
   ],
   "source": [
    "import plotly.graph_objects as go\n",
    "\n",
    "x = ['Teens','20s', '30s','40s','50s','60s']\n",
    "y = [100, 100, 100, 100, 100, 100]\n",
    "p = ['100%','100%', '100%','100%','100%','100%']\n",
    "\n",
    "agegroup = go.Figure(\n",
    "        go.Bar(\n",
    "            x=[40]*6,\n",
    "            y=x,\n",
    "            text=p,\n",
    "            textposition=\"inside\",\n",
    "            textfont=dict(color=\"black\"),\n",
    "            orientation=\"h\",\n",
    "            marker_color=\"#C7D0D7\",\n",
    "        )\n",
    ")\n",
    "\n",
    "agegroup.add_trace(\n",
    "    go.Bar(\n",
    "        x=p,\n",
    "        y=x,\n",
    "        orientation=\"h\",\n",
    "        marker_color=\"#657889\",\n",
    "    )\n",
    ")\n",
    "agegroup.update_layout(title = 'Age Group Distribution',\n",
    "                       barmode=\"overlay\", \n",
    "                       showlegend=False,\n",
    "                       template=\"presentation\",\n",
    "                       title_font_family=\"Times New Roman\",\n",
    "                       font_family=\"Times New Roman\",)\n",
    "\n",
    "agegroup.update_yaxes(\n",
    "    tickmode=\"array\",\n",
    "    categoryorder=\"total ascending\",\n",
    "    tickvals=x,\n",
    "    ticktext=x,\n",
    "    ticklabelposition=\"inside\",\n",
    "    tickfont=dict(color=\"white\"),\n",
    ")\n",
    "agegroup.update_xaxes(range=[0, 40], visible=False)\n",
    "\n",
    "agegroup.show()"
   ]
  },
  {
   "cell_type": "code",
   "execution_count": 168,
   "id": "cd555a8c-96a3-4aba-961f-cf380af7fae2",
   "metadata": {},
   "outputs": [
    {
     "data": {
      "application/vnd.plotly.v1+json": {
       "config": {
        "plotlyServerURL": "https://plot.ly"
       },
       "data": [
        {
         "domain": {
          "x": [
           0,
           1
          ],
          "y": [
           0,
           1
          ]
         },
         "hole": 0.4,
         "hovertemplate": "label=%{label}<br>value=%{value}<extra></extra>",
         "labels": [
          "Female Population",
          "Male Population"
         ],
         "legendgroup": "",
         "name": "",
         "showlegend": true,
         "textinfo": "percent+label",
         "textposition": "inside",
         "type": "pie",
         "values": [
          50,
          50
         ]
        }
       ],
       "layout": {
        "autosize": true,
        "font": {
         "family": "Times New Roman"
        },
        "legend": {
         "tracegroupgap": 0
        },
        "margin": {
         "t": 60
        },
        "piecolorway": [
         "#C7D0D7",
         "#657889"
        ],
        "showlegend": false,
        "template": {
         "data": {
          "pie": [
           {
            "automargin": true,
            "type": "pie"
           }
          ],
          "scatter": [
           {
            "line": {
             "width": 3
            },
            "marker": {
             "size": 9
            },
            "type": "scatter"
           }
          ],
          "scatter3d": [
           {
            "line": {
             "width": 3
            },
            "marker": {
             "size": 9
            },
            "type": "scatter3d"
           }
          ],
          "scattergeo": [
           {
            "line": {
             "width": 3
            },
            "marker": {
             "size": 9
            },
            "type": "scattergeo"
           }
          ],
          "scattergl": [
           {
            "line": {
             "width": 3
            },
            "marker": {
             "size": 9
            },
            "type": "scattergl"
           }
          ],
          "scatterpolar": [
           {
            "line": {
             "width": 3
            },
            "marker": {
             "size": 9
            },
            "type": "scatterpolar"
           }
          ],
          "scatterpolargl": [
           {
            "line": {
             "width": 3
            },
            "marker": {
             "size": 9
            },
            "type": "scatterpolargl"
           }
          ],
          "scatterternary": [
           {
            "line": {
             "width": 3
            },
            "marker": {
             "size": 9
            },
            "type": "scatterternary"
           }
          ],
          "table": [
           {
            "cells": {
             "height": 30
            },
            "header": {
             "height": 36
            },
            "type": "table"
           }
          ]
         },
         "layout": {
          "font": {
           "size": 18
          },
          "xaxis": {
           "title": {
            "standoff": 15
           }
          },
          "yaxis": {
           "title": {
            "standoff": 15
           }
          }
         }
        },
        "title": {
         "font": {
          "family": "Times New Roman"
         },
         "text": "Population By Gender"
        }
       }
      },
      "image/png": "[encoded data removed]",
      "text/html": [
       "<div>                            <div id=\"85c5e262-84a0-4d96-ab72-013810c92422\" class=\"plotly-graph-div\" style=\"height:525px; width:100%;\"></div>            <script type=\"text/javascript\">                require([\"plotly\"], function(Plotly) {                    window.PLOTLYENV=window.PLOTLYENV || {};                                    if (document.getElementById(\"85c5e262-84a0-4d96-ab72-013810c92422\")) {                    Plotly.newPlot(                        \"85c5e262-84a0-4d96-ab72-013810c92422\",                        [{\"domain\":{\"x\":[0.0,1.0],\"y\":[0.0,1.0]},\"hole\":0.4,\"hovertemplate\":\"label=%{label}\\u003cbr\\u003evalue=%{value}\\u003cextra\\u003e\\u003c\\u002fextra\\u003e\",\"labels\":[\"Female Population\",\"Male Population\"],\"legendgroup\":\"\",\"name\":\"\",\"showlegend\":true,\"values\":[50,50],\"type\":\"pie\",\"textinfo\":\"percent+label\",\"textposition\":\"inside\"}],                        {\"template\":{\"data\":{\"pie\":[{\"automargin\":true,\"type\":\"pie\"}],\"scatter3d\":[{\"line\":{\"width\":3},\"marker\":{\"size\":9},\"type\":\"scatter3d\"}],\"scattergeo\":[{\"line\":{\"width\":3},\"marker\":{\"size\":9},\"type\":\"scattergeo\"}],\"scattergl\":[{\"line\":{\"width\":3},\"marker\":{\"size\":9},\"type\":\"scattergl\"}],\"scatterpolargl\":[{\"line\":{\"width\":3},\"marker\":{\"size\":9},\"type\":\"scatterpolargl\"}],\"scatterpolar\":[{\"line\":{\"width\":3},\"marker\":{\"size\":9},\"type\":\"scatterpolar\"}],\"scatter\":[{\"line\":{\"width\":3},\"marker\":{\"size\":9},\"type\":\"scatter\"}],\"scatterternary\":[{\"line\":{\"width\":3},\"marker\":{\"size\":9},\"type\":\"scatterternary\"}],\"table\":[{\"cells\":{\"height\":30},\"header\":{\"height\":36},\"type\":\"table\"}]},\"layout\":{\"font\":{\"size\":18},\"xaxis\":{\"title\":{\"standoff\":15}},\"yaxis\":{\"title\":{\"standoff\":15}}}},\"legend\":{\"tracegroupgap\":0},\"margin\":{\"t\":60},\"piecolorway\":[\"#C7D0D7\",\"#657889\"],\"title\":{\"text\":\"Population By Gender\",\"font\":{\"family\":\"Times New Roman\"}},\"font\":{\"family\":\"Times New Roman\"},\"showlegend\":false},                        {\"responsive\": true}                    ).then(function(){\n",
       "                            \n",
       "var gd = document.getElementById('85c5e262-84a0-4d96-ab72-013810c92422');\n",
       "var x = new MutationObserver(function (mutations, observer) {{\n",
       "        var display = window.getComputedStyle(gd).display;\n",
       "        if (!display || display === 'none') {{\n",
       "            console.log([gd, 'removed!']);\n",
       "            Plotly.purge(gd);\n",
       "            observer.disconnect();\n",
       "        }}\n",
       "}});\n",
       "\n",
       "// Listen for the removal of the full notebook cells\n",
       "var notebookContainer = gd.closest('#notebook-container');\n",
       "if (notebookContainer) {{\n",
       "    x.observe(notebookContainer, {childList: true});\n",
       "}}\n",
       "\n",
       "// Listen for the clearing of the current output cell\n",
       "var outputEl = gd.closest('.output');\n",
       "if (outputEl) {{\n",
       "    x.observe(outputEl, {childList: true});\n",
       "}}\n",
       "\n",
       "                        })                };                });            </script>        </div>"
      ]
     },
     "metadata": {},
     "output_type": "display_data"
    }
   ],
   "source": [
    "labels = ['Female Population', 'Male Population']\n",
    "values = [50, 50]\n",
    "\n",
    "GenderGroup = px.pie(values=values, names=labels,hole=.4, color_discrete_sequence=['#C7D0D7','#657889'])\n",
    "\n",
    "GenderGroup.update_layout(showlegend=False,title='Population By Gender',\n",
    "                          template=\"presentation\",\n",
    "                          title_font_family=\"Times New Roman\",\n",
    "                          font_family=\"Times New Roman\")\n",
    "\n",
    "GenderGroup.update_traces(textposition='inside', textinfo='percent+label')\n",
    "GenderGroup.show()"
   ]
  },
  {
   "cell_type": "code",
   "execution_count": 172,
   "id": "8dfa51e4-7670-4cc6-a462-20715f8d923e",
   "metadata": {},
   "outputs": [
    {
     "data": {
      "application/vnd.plotly.v1+json": {
       "config": {
        "plotlyServerURL": "https://plot.ly"
       },
       "data": [
        {
         "domain": {
          "x": [
           0,
           1
          ],
          "y": [
           0,
           1
          ]
         },
         "hovertemplate": "label=%{label}<br>value=%{value}<extra></extra>",
         "labels": [
          "Rated as 1",
          "Rated as 2",
          "Rated as 3",
          "Rated as 4",
          "Rated as 5"
         ],
         "legendgroup": "",
         "name": "",
         "showlegend": true,
         "textinfo": "percent+label",
         "textposition": "inside",
         "type": "pie",
         "values": [
          50,
          50,
          50,
          50,
          50
         ]
        }
       ],
       "layout": {
        "autosize": true,
        "font": {
         "family": "Times New Roman"
        },
        "legend": {
         "tracegroupgap": 0
        },
        "margin": {
         "t": 60
        },
        "piecolorway": [
         "#4F5B67",
         "#C7D0D7",
         "#657889"
        ],
        "showlegend": false,
        "template": {
         "data": {
          "pie": [
           {
            "automargin": true,
            "type": "pie"
           }
          ],
          "scatter": [
           {
            "line": {
             "width": 3
            },
            "marker": {
             "size": 9
            },
            "type": "scatter"
           }
          ],
          "scatter3d": [
           {
            "line": {
             "width": 3
            },
            "marker": {
             "size": 9
            },
            "type": "scatter3d"
           }
          ],
          "scattergeo": [
           {
            "line": {
             "width": 3
            },
            "marker": {
             "size": 9
            },
            "type": "scattergeo"
           }
          ],
          "scattergl": [
           {
            "line": {
             "width": 3
            },
            "marker": {
             "size": 9
            },
            "type": "scattergl"
           }
          ],
          "scatterpolar": [
           {
            "line": {
             "width": 3
            },
            "marker": {
             "size": 9
            },
            "type": "scatterpolar"
           }
          ],
          "scatterpolargl": [
           {
            "line": {
             "width": 3
            },
            "marker": {
             "size": 9
            },
            "type": "scatterpolargl"
           }
          ],
          "scatterternary": [
           {
            "line": {
             "width": 3
            },
            "marker": {
             "size": 9
            },
            "type": "scatterternary"
           }
          ],
          "table": [
           {
            "cells": {
             "height": 30
            },
            "header": {
             "height": 36
            },
            "type": "table"
           }
          ]
         },
         "layout": {
          "font": {
           "size": 18
          },
          "xaxis": {
           "title": {
            "standoff": 15
           }
          },
          "yaxis": {
           "title": {
            "standoff": 15
           }
          }
         }
        },
        "title": {
         "font": {
          "family": "Times New Roman"
         },
         "text": "Population of People Ratings"
        }
       }
      },
      "image/png": "[encoded data removed]",
      "text/html": [
       "<div>                            <div id=\"7a83846d-34b6-447a-bb17-2e3135177042\" class=\"plotly-graph-div\" style=\"height:525px; width:100%;\"></div>            <script type=\"text/javascript\">                require([\"plotly\"], function(Plotly) {                    window.PLOTLYENV=window.PLOTLYENV || {};                                    if (document.getElementById(\"7a83846d-34b6-447a-bb17-2e3135177042\")) {                    Plotly.newPlot(                        \"7a83846d-34b6-447a-bb17-2e3135177042\",                        [{\"domain\":{\"x\":[0.0,1.0],\"y\":[0.0,1.0]},\"hovertemplate\":\"label=%{label}\\u003cbr\\u003evalue=%{value}\\u003cextra\\u003e\\u003c\\u002fextra\\u003e\",\"labels\":[\"Rated as 1\",\"Rated as 2\",\"Rated as 3\",\"Rated as 4\",\"Rated as 5\"],\"legendgroup\":\"\",\"name\":\"\",\"showlegend\":true,\"values\":[50,50,50,50,50],\"type\":\"pie\",\"textinfo\":\"percent+label\",\"textposition\":\"inside\"}],                        {\"template\":{\"data\":{\"pie\":[{\"automargin\":true,\"type\":\"pie\"}],\"scatter3d\":[{\"line\":{\"width\":3},\"marker\":{\"size\":9},\"type\":\"scatter3d\"}],\"scattergeo\":[{\"line\":{\"width\":3},\"marker\":{\"size\":9},\"type\":\"scattergeo\"}],\"scattergl\":[{\"line\":{\"width\":3},\"marker\":{\"size\":9},\"type\":\"scattergl\"}],\"scatterpolargl\":[{\"line\":{\"width\":3},\"marker\":{\"size\":9},\"type\":\"scatterpolargl\"}],\"scatterpolar\":[{\"line\":{\"width\":3},\"marker\":{\"size\":9},\"type\":\"scatterpolar\"}],\"scatter\":[{\"line\":{\"width\":3},\"marker\":{\"size\":9},\"type\":\"scatter\"}],\"scatterternary\":[{\"line\":{\"width\":3},\"marker\":{\"size\":9},\"type\":\"scatterternary\"}],\"table\":[{\"cells\":{\"height\":30},\"header\":{\"height\":36},\"type\":\"table\"}]},\"layout\":{\"font\":{\"size\":18},\"xaxis\":{\"title\":{\"standoff\":15}},\"yaxis\":{\"title\":{\"standoff\":15}}}},\"legend\":{\"tracegroupgap\":0},\"margin\":{\"t\":60},\"piecolorway\":[\"#4F5B67\",\"#C7D0D7\",\"#657889\"],\"title\":{\"text\":\"Population of People Ratings\",\"font\":{\"family\":\"Times New Roman\"}},\"font\":{\"family\":\"Times New Roman\"},\"showlegend\":false},                        {\"responsive\": true}                    ).then(function(){\n",
       "                            \n",
       "var gd = document.getElementById('7a83846d-34b6-447a-bb17-2e3135177042');\n",
       "var x = new MutationObserver(function (mutations, observer) {{\n",
       "        var display = window.getComputedStyle(gd).display;\n",
       "        if (!display || display === 'none') {{\n",
       "            console.log([gd, 'removed!']);\n",
       "            Plotly.purge(gd);\n",
       "            observer.disconnect();\n",
       "        }}\n",
       "}});\n",
       "\n",
       "// Listen for the removal of the full notebook cells\n",
       "var notebookContainer = gd.closest('#notebook-container');\n",
       "if (notebookContainer) {{\n",
       "    x.observe(notebookContainer, {childList: true});\n",
       "}}\n",
       "\n",
       "// Listen for the clearing of the current output cell\n",
       "var outputEl = gd.closest('.output');\n",
       "if (outputEl) {{\n",
       "    x.observe(outputEl, {childList: true});\n",
       "}}\n",
       "\n",
       "                        })                };                });            </script>        </div>"
      ]
     },
     "metadata": {},
     "output_type": "display_data"
    }
   ],
   "source": [
    "x = ['Rated as 1', 'Rated as 2', 'Rated as 3', 'Rated as 4', 'Rated as 5']\n",
    "y = [50, 50, 50, 50, 50]\n",
    "\n",
    "graph1 = px.pie(values=y, names=x, color_discrete_sequence=['#4F5B67','#C7D0D7','#657889'])\n",
    "\n",
    "graph1.update_layout(showlegend=False,title='Population of People Ratings',\n",
    "                          template=\"presentation\",\n",
    "                          title_font_family=\"Times New Roman\",\n",
    "                          font_family=\"Times New Roman\")\n",
    "\n",
    "graph1.update_traces(textposition='inside', textinfo='percent+label')\n",
    "graph1.show()"
   ]
  },
  {
   "cell_type": "code",
   "execution_count": 171,
   "id": "999e2cfd-5280-44a7-bf79-9d04c9532f2a",
   "metadata": {},
   "outputs": [
    {
     "data": {
      "application/vnd.plotly.v1+json": {
       "config": {
        "plotlyServerURL": "https://plot.ly"
       },
       "data": [
        {
         "domain": {
          "x": [
           0,
           1
          ],
          "y": [
           0,
           1
          ]
         },
         "hovertemplate": "label=%{label}<br>value=%{value}<extra></extra>",
         "labels": [
          "Rated as 1",
          "Rated as 2",
          "Rated as 3",
          "Rated as 4",
          "Rated as 5"
         ],
         "legendgroup": "",
         "name": "",
         "showlegend": true,
         "textinfo": "percent+label",
         "textposition": "inside",
         "type": "pie",
         "values": [
          50,
          50,
          50,
          50,
          50
         ]
        }
       ],
       "layout": {
        "autosize": true,
        "font": {
         "family": "Times New Roman"
        },
        "legend": {
         "tracegroupgap": 0
        },
        "margin": {
         "t": 60
        },
        "piecolorway": [
         "#4F5B67",
         "#C7D0D7",
         "#657889"
        ],
        "showlegend": false,
        "template": {
         "data": {
          "pie": [
           {
            "automargin": true,
            "type": "pie"
           }
          ],
          "scatter": [
           {
            "line": {
             "width": 3
            },
            "marker": {
             "size": 9
            },
            "type": "scatter"
           }
          ],
          "scatter3d": [
           {
            "line": {
             "width": 3
            },
            "marker": {
             "size": 9
            },
            "type": "scatter3d"
           }
          ],
          "scattergeo": [
           {
            "line": {
             "width": 3
            },
            "marker": {
             "size": 9
            },
            "type": "scattergeo"
           }
          ],
          "scattergl": [
           {
            "line": {
             "width": 3
            },
            "marker": {
             "size": 9
            },
            "type": "scattergl"
           }
          ],
          "scatterpolar": [
           {
            "line": {
             "width": 3
            },
            "marker": {
             "size": 9
            },
            "type": "scatterpolar"
           }
          ],
          "scatterpolargl": [
           {
            "line": {
             "width": 3
            },
            "marker": {
             "size": 9
            },
            "type": "scatterpolargl"
           }
          ],
          "scatterternary": [
           {
            "line": {
             "width": 3
            },
            "marker": {
             "size": 9
            },
            "type": "scatterternary"
           }
          ],
          "table": [
           {
            "cells": {
             "height": 30
            },
            "header": {
             "height": 36
            },
            "type": "table"
           }
          ]
         },
         "layout": {
          "font": {
           "size": 18
          },
          "xaxis": {
           "title": {
            "standoff": 15
           }
          },
          "yaxis": {
           "title": {
            "standoff": 15
           }
          }
         }
        },
        "title": {
         "font": {
          "family": "Times New Roman"
         },
         "text": "Population of People Ratings"
        }
       }
      },
      "image/png": "[encoded data removed]",
      "text/html": [
       "<div>                            <div id=\"282c403f-2460-48b9-81e5-367eca039bf5\" class=\"plotly-graph-div\" style=\"height:525px; width:100%;\"></div>            <script type=\"text/javascript\">                require([\"plotly\"], function(Plotly) {                    window.PLOTLYENV=window.PLOTLYENV || {};                                    if (document.getElementById(\"282c403f-2460-48b9-81e5-367eca039bf5\")) {                    Plotly.newPlot(                        \"282c403f-2460-48b9-81e5-367eca039bf5\",                        [{\"domain\":{\"x\":[0.0,1.0],\"y\":[0.0,1.0]},\"hovertemplate\":\"label=%{label}\\u003cbr\\u003evalue=%{value}\\u003cextra\\u003e\\u003c\\u002fextra\\u003e\",\"labels\":[\"Rated as 1\",\"Rated as 2\",\"Rated as 3\",\"Rated as 4\",\"Rated as 5\"],\"legendgroup\":\"\",\"name\":\"\",\"showlegend\":true,\"values\":[50,50,50,50,50],\"type\":\"pie\",\"textinfo\":\"percent+label\",\"textposition\":\"inside\"}],                        {\"template\":{\"data\":{\"pie\":[{\"automargin\":true,\"type\":\"pie\"}],\"scatter3d\":[{\"line\":{\"width\":3},\"marker\":{\"size\":9},\"type\":\"scatter3d\"}],\"scattergeo\":[{\"line\":{\"width\":3},\"marker\":{\"size\":9},\"type\":\"scattergeo\"}],\"scattergl\":[{\"line\":{\"width\":3},\"marker\":{\"size\":9},\"type\":\"scattergl\"}],\"scatterpolargl\":[{\"line\":{\"width\":3},\"marker\":{\"size\":9},\"type\":\"scatterpolargl\"}],\"scatterpolar\":[{\"line\":{\"width\":3},\"marker\":{\"size\":9},\"type\":\"scatterpolar\"}],\"scatter\":[{\"line\":{\"width\":3},\"marker\":{\"size\":9},\"type\":\"scatter\"}],\"scatterternary\":[{\"line\":{\"width\":3},\"marker\":{\"size\":9},\"type\":\"scatterternary\"}],\"table\":[{\"cells\":{\"height\":30},\"header\":{\"height\":36},\"type\":\"table\"}]},\"layout\":{\"font\":{\"size\":18},\"xaxis\":{\"title\":{\"standoff\":15}},\"yaxis\":{\"title\":{\"standoff\":15}}}},\"legend\":{\"tracegroupgap\":0},\"margin\":{\"t\":60},\"piecolorway\":[\"#4F5B67\",\"#C7D0D7\",\"#657889\"],\"title\":{\"text\":\"Population of People Ratings\",\"font\":{\"family\":\"Times New Roman\"}},\"font\":{\"family\":\"Times New Roman\"},\"showlegend\":false},                        {\"responsive\": true}                    ).then(function(){\n",
       "                            \n",
       "var gd = document.getElementById('282c403f-2460-48b9-81e5-367eca039bf5');\n",
       "var x = new MutationObserver(function (mutations, observer) {{\n",
       "        var display = window.getComputedStyle(gd).display;\n",
       "        if (!display || display === 'none') {{\n",
       "            console.log([gd, 'removed!']);\n",
       "            Plotly.purge(gd);\n",
       "            observer.disconnect();\n",
       "        }}\n",
       "}});\n",
       "\n",
       "// Listen for the removal of the full notebook cells\n",
       "var notebookContainer = gd.closest('#notebook-container');\n",
       "if (notebookContainer) {{\n",
       "    x.observe(notebookContainer, {childList: true});\n",
       "}}\n",
       "\n",
       "// Listen for the clearing of the current output cell\n",
       "var outputEl = gd.closest('.output');\n",
       "if (outputEl) {{\n",
       "    x.observe(outputEl, {childList: true});\n",
       "}}\n",
       "\n",
       "                        })                };                });            </script>        </div>"
      ]
     },
     "metadata": {},
     "output_type": "display_data"
    }
   ],
   "source": [
    "x = ['Rated as 1', 'Rated as 2', 'Rated as 3', 'Rated as 4', 'Rated as 5']\n",
    "y = [50, 50, 50, 50, 50]\n",
    "\n",
    "graph2 = px.pie(values=y, names=x, color_discrete_sequence=['#4F5B67','#C7D0D7','#657889'])\n",
    "graph2.update_layout(showlegend=False,title='Population of People Ratings',\n",
    "                          template=\"presentation\",\n",
    "                          title_font_family=\"Times New Roman\",\n",
    "                          font_family=\"Times New Roman\")\n",
    "\n",
    "graph2.update_traces(textposition='inside', textinfo='percent+label')\n",
    "graph2.show()"
   ]
  },
  {
   "cell_type": "code",
   "execution_count": 173,
   "id": "4c30c809-e8d7-4c3b-b6b1-cd49fb89273e",
   "metadata": {},
   "outputs": [
    {
     "data": {
      "application/vnd.plotly.v1+json": {
       "config": {
        "plotlyServerURL": "https://plot.ly"
       },
       "data": [
        {
         "domain": {
          "x": [
           0,
           1
          ],
          "y": [
           0,
           1
          ]
         },
         "hovertemplate": "label=%{label}<br>value=%{value}<extra></extra>",
         "labels": [
          "Rated as 1",
          "Rated as 2",
          "Rated as 3",
          "Rated as 4",
          "Rated as 5"
         ],
         "legendgroup": "",
         "name": "",
         "showlegend": true,
         "textinfo": "percent+label",
         "textposition": "inside",
         "type": "pie",
         "values": [
          50,
          50,
          50,
          50,
          50
         ]
        }
       ],
       "layout": {
        "autosize": true,
        "font": {
         "family": "Times New Roman"
        },
        "legend": {
         "tracegroupgap": 0
        },
        "margin": {
         "t": 60
        },
        "piecolorway": [
         "#4F5B67",
         "#C7D0D7",
         "#657889"
        ],
        "showlegend": false,
        "template": {
         "data": {
          "pie": [
           {
            "automargin": true,
            "type": "pie"
           }
          ],
          "scatter": [
           {
            "line": {
             "width": 3
            },
            "marker": {
             "size": 9
            },
            "type": "scatter"
           }
          ],
          "scatter3d": [
           {
            "line": {
             "width": 3
            },
            "marker": {
             "size": 9
            },
            "type": "scatter3d"
           }
          ],
          "scattergeo": [
           {
            "line": {
             "width": 3
            },
            "marker": {
             "size": 9
            },
            "type": "scattergeo"
           }
          ],
          "scattergl": [
           {
            "line": {
             "width": 3
            },
            "marker": {
             "size": 9
            },
            "type": "scattergl"
           }
          ],
          "scatterpolar": [
           {
            "line": {
             "width": 3
            },
            "marker": {
             "size": 9
            },
            "type": "scatterpolar"
           }
          ],
          "scatterpolargl": [
           {
            "line": {
             "width": 3
            },
            "marker": {
             "size": 9
            },
            "type": "scatterpolargl"
           }
          ],
          "scatterternary": [
           {
            "line": {
             "width": 3
            },
            "marker": {
             "size": 9
            },
            "type": "scatterternary"
           }
          ],
          "table": [
           {
            "cells": {
             "height": 30
            },
            "header": {
             "height": 36
            },
            "type": "table"
           }
          ]
         },
         "layout": {
          "font": {
           "size": 18
          },
          "xaxis": {
           "title": {
            "standoff": 15
           }
          },
          "yaxis": {
           "title": {
            "standoff": 15
           }
          }
         }
        },
        "title": {
         "font": {
          "family": "Times New Roman"
         },
         "text": "Population of People Ratings"
        }
       }
      },
      "image/png": "[encoded data removed]",
      "text/html": [
       "<div>                            <div id=\"b99fe070-2e10-40d5-806a-79c3b7f54169\" class=\"plotly-graph-div\" style=\"height:525px; width:100%;\"></div>            <script type=\"text/javascript\">                require([\"plotly\"], function(Plotly) {                    window.PLOTLYENV=window.PLOTLYENV || {};                                    if (document.getElementById(\"b99fe070-2e10-40d5-806a-79c3b7f54169\")) {                    Plotly.newPlot(                        \"b99fe070-2e10-40d5-806a-79c3b7f54169\",                        [{\"domain\":{\"x\":[0.0,1.0],\"y\":[0.0,1.0]},\"hovertemplate\":\"label=%{label}\\u003cbr\\u003evalue=%{value}\\u003cextra\\u003e\\u003c\\u002fextra\\u003e\",\"labels\":[\"Rated as 1\",\"Rated as 2\",\"Rated as 3\",\"Rated as 4\",\"Rated as 5\"],\"legendgroup\":\"\",\"name\":\"\",\"showlegend\":true,\"values\":[50,50,50,50,50],\"type\":\"pie\",\"textinfo\":\"percent+label\",\"textposition\":\"inside\"}],                        {\"template\":{\"data\":{\"pie\":[{\"automargin\":true,\"type\":\"pie\"}],\"scatter3d\":[{\"line\":{\"width\":3},\"marker\":{\"size\":9},\"type\":\"scatter3d\"}],\"scattergeo\":[{\"line\":{\"width\":3},\"marker\":{\"size\":9},\"type\":\"scattergeo\"}],\"scattergl\":[{\"line\":{\"width\":3},\"marker\":{\"size\":9},\"type\":\"scattergl\"}],\"scatterpolargl\":[{\"line\":{\"width\":3},\"marker\":{\"size\":9},\"type\":\"scatterpolargl\"}],\"scatterpolar\":[{\"line\":{\"width\":3},\"marker\":{\"size\":9},\"type\":\"scatterpolar\"}],\"scatter\":[{\"line\":{\"width\":3},\"marker\":{\"size\":9},\"type\":\"scatter\"}],\"scatterternary\":[{\"line\":{\"width\":3},\"marker\":{\"size\":9},\"type\":\"scatterternary\"}],\"table\":[{\"cells\":{\"height\":30},\"header\":{\"height\":36},\"type\":\"table\"}]},\"layout\":{\"font\":{\"size\":18},\"xaxis\":{\"title\":{\"standoff\":15}},\"yaxis\":{\"title\":{\"standoff\":15}}}},\"legend\":{\"tracegroupgap\":0},\"margin\":{\"t\":60},\"piecolorway\":[\"#4F5B67\",\"#C7D0D7\",\"#657889\"],\"title\":{\"text\":\"Population of People Ratings\",\"font\":{\"family\":\"Times New Roman\"}},\"font\":{\"family\":\"Times New Roman\"},\"showlegend\":false},                        {\"responsive\": true}                    ).then(function(){\n",
       "                            \n",
       "var gd = document.getElementById('b99fe070-2e10-40d5-806a-79c3b7f54169');\n",
       "var x = new MutationObserver(function (mutations, observer) {{\n",
       "        var display = window.getComputedStyle(gd).display;\n",
       "        if (!display || display === 'none') {{\n",
       "            console.log([gd, 'removed!']);\n",
       "            Plotly.purge(gd);\n",
       "            observer.disconnect();\n",
       "        }}\n",
       "}});\n",
       "\n",
       "// Listen for the removal of the full notebook cells\n",
       "var notebookContainer = gd.closest('#notebook-container');\n",
       "if (notebookContainer) {{\n",
       "    x.observe(notebookContainer, {childList: true});\n",
       "}}\n",
       "\n",
       "// Listen for the clearing of the current output cell\n",
       "var outputEl = gd.closest('.output');\n",
       "if (outputEl) {{\n",
       "    x.observe(outputEl, {childList: true});\n",
       "}}\n",
       "\n",
       "                        })                };                });            </script>        </div>"
      ]
     },
     "metadata": {},
     "output_type": "display_data"
    }
   ],
   "source": [
    "x = ['Rated as 1', 'Rated as 2', 'Rated as 3', 'Rated as 4', 'Rated as 5']\n",
    "y = [50, 50, 50, 50, 50]\n",
    "\n",
    "graph3 = px.pie(values=y, names=x, color_discrete_sequence=['#4F5B67','#C7D0D7','#657889'])\n",
    "graph3.update_layout(showlegend=False,title='Population of People Ratings',\n",
    "                          template=\"presentation\",\n",
    "                          title_font_family=\"Times New Roman\",\n",
    "                          font_family=\"Times New Roman\")\n",
    "\n",
    "graph3.update_traces(textposition='inside', textinfo='percent+label')\n",
    "graph3.show()"
   ]
  },
  {
   "cell_type": "code",
   "execution_count": 146,
   "id": "f34fdbcd-4ea8-4cc9-b5fd-1b23fe2a852a",
   "metadata": {},
   "outputs": [],
   "source": [
    "Style = {\"text-align\": \"center\", 'width': '100%', 'display': 'inline-block', 'font-weight': 'bold',\n",
    "                      'font-family': \"Times New Roman\", 'color':'#173F3F',\n",
    "                      'text-shadow': '2px 2px 2px #C7D0D7', 'text-transform': 'none', 'font-size': 40 }\n",
    "\n",
    "Text_Style ={\"text-align\": \"center\", 'width': '100%', 'padding': '5px','color':'black', 'display': 'inline-block',\n",
    "        'font-size': 20, 'font-family': \"Times New Roman\", 'text-transform': 'none'}"
   ]
  },
  {
   "cell_type": "code",
   "execution_count": 181,
   "id": "b52f81b1-b197-433d-a7e8-4b2db1c9e53f",
   "metadata": {},
   "outputs": [
    {
     "data": {
      "text/html": [
       "\n",
       "        <iframe\n",
       "            width=\"100%\"\n",
       "            height=\"650\"\n",
       "            src=\"http://127.0.0.1:8050/\"\n",
       "            frameborder=\"0\"\n",
       "            allowfullscreen\n",
       "            \n",
       "        ></iframe>\n",
       "        "
      ],
      "text/plain": [
       "<IPython.lib.display.IFrame at 0x12433c05350>"
      ]
     },
     "metadata": {},
     "output_type": "display_data"
    },
    {
     "name": "stderr",
     "output_type": "stream",
     "text": [
      "[2023-12-14 13:07:22,269] ERROR in app: Exception on /_dash-update-component [POST]\n",
      "Traceback (most recent call last):\n",
      "  File \"C:\\Users\\skna1\\AppData\\Local\\Programs\\Python\\Python311\\Lib\\site-packages\\flask\\app.py\", line 2190, in wsgi_app\n",
      "    response = self.full_dispatch_request()\n",
      "               ^^^^^^^^^^^^^^^^^^^^^^^^^^^^\n",
      "  File \"C:\\Users\\skna1\\AppData\\Local\\Programs\\Python\\Python311\\Lib\\site-packages\\flask\\app.py\", line 1486, in full_dispatch_request\n",
      "    rv = self.handle_user_exception(e)\n",
      "         ^^^^^^^^^^^^^^^^^^^^^^^^^^^^^\n",
      "  File \"C:\\Users\\skna1\\AppData\\Local\\Programs\\Python\\Python311\\Lib\\site-packages\\flask\\app.py\", line 1484, in full_dispatch_request\n",
      "    rv = self.dispatch_request()\n",
      "         ^^^^^^^^^^^^^^^^^^^^^^^\n",
      "  File \"C:\\Users\\skna1\\AppData\\Local\\Programs\\Python\\Python311\\Lib\\site-packages\\flask\\app.py\", line 1469, in dispatch_request\n",
      "    return self.ensure_sync(self.view_functions[rule.endpoint])(**view_args)\n",
      "           ^^^^^^^^^^^^^^^^^^^^^^^^^^^^^^^^^^^^^^^^^^^^^^^^^^^^^^^^^^^^^^^^^\n",
      "  File \"C:\\Users\\skna1\\AppData\\Local\\Programs\\Python\\Python311\\Lib\\site-packages\\dash\\dash.py\", line 1310, in dispatch\n",
      "    ctx.run(\n",
      "  File \"C:\\Users\\skna1\\AppData\\Local\\Programs\\Python\\Python311\\Lib\\site-packages\\dash\\_callback.py\", line 442, in add_context\n",
      "    output_value = func(*func_args, **func_kwargs)  # %% callback invoked %%\n",
      "                   ^^^^^^^^^^^^^^^^^^^^^^^^^^^^^^^\n",
      "  File \"C:\\Users\\skna1\\AppData\\Local\\Temp\\ipykernel_20212\\4117366607.py\", line 251, in Prediction\n",
      "    latlng = re.split(',',latlng)\n",
      "             ^^^^^^^^^^^^^^^^^^^^\n",
      "  File \"C:\\Users\\skna1\\AppData\\Local\\Programs\\Python\\Python311\\Lib\\re\\__init__.py\", line 206, in split\n",
      "    return _compile(pattern, flags).split(string, maxsplit)\n",
      "           ^^^^^^^^^^^^^^^^^^^^^^^^^^^^^^^^^^^^^^^^^^^^^^^^\n",
      "TypeError: expected string or bytes-like object, got 'NoneType'\n",
      "[2023-12-14 13:07:27,595] ERROR in app: Exception on /_dash-update-component [POST]\n",
      "Traceback (most recent call last):\n",
      "  File \"C:\\Users\\skna1\\AppData\\Local\\Programs\\Python\\Python311\\Lib\\site-packages\\flask\\app.py\", line 2190, in wsgi_app\n",
      "    response = self.full_dispatch_request()\n",
      "               ^^^^^^^^^^^^^^^^^^^^^^^^^^^^\n",
      "  File \"C:\\Users\\skna1\\AppData\\Local\\Programs\\Python\\Python311\\Lib\\site-packages\\flask\\app.py\", line 1486, in full_dispatch_request\n",
      "    rv = self.handle_user_exception(e)\n",
      "         ^^^^^^^^^^^^^^^^^^^^^^^^^^^^^\n",
      "  File \"C:\\Users\\skna1\\AppData\\Local\\Programs\\Python\\Python311\\Lib\\site-packages\\flask\\app.py\", line 1484, in full_dispatch_request\n",
      "    rv = self.dispatch_request()\n",
      "         ^^^^^^^^^^^^^^^^^^^^^^^\n",
      "  File \"C:\\Users\\skna1\\AppData\\Local\\Programs\\Python\\Python311\\Lib\\site-packages\\flask\\app.py\", line 1469, in dispatch_request\n",
      "    return self.ensure_sync(self.view_functions[rule.endpoint])(**view_args)\n",
      "           ^^^^^^^^^^^^^^^^^^^^^^^^^^^^^^^^^^^^^^^^^^^^^^^^^^^^^^^^^^^^^^^^^\n",
      "  File \"C:\\Users\\skna1\\AppData\\Local\\Programs\\Python\\Python311\\Lib\\site-packages\\dash\\dash.py\", line 1310, in dispatch\n",
      "    ctx.run(\n",
      "  File \"C:\\Users\\skna1\\AppData\\Local\\Programs\\Python\\Python311\\Lib\\site-packages\\dash\\_callback.py\", line 442, in add_context\n",
      "    output_value = func(*func_args, **func_kwargs)  # %% callback invoked %%\n",
      "                   ^^^^^^^^^^^^^^^^^^^^^^^^^^^^^^^\n",
      "  File \"C:\\Users\\skna1\\AppData\\Local\\Temp\\ipykernel_20212\\4117366607.py\", line 251, in Prediction\n",
      "    latlng = re.split(',',latlng)\n",
      "             ^^^^^^^^^^^^^^^^^^^^\n",
      "  File \"C:\\Users\\skna1\\AppData\\Local\\Programs\\Python\\Python311\\Lib\\re\\__init__.py\", line 206, in split\n",
      "    return _compile(pattern, flags).split(string, maxsplit)\n",
      "           ^^^^^^^^^^^^^^^^^^^^^^^^^^^^^^^^^^^^^^^^^^^^^^^^\n",
      "TypeError: expected string or bytes-like object, got 'NoneType'\n"
     ]
    },
    {
     "name": "stdout",
     "output_type": "stream",
     "text": [
      "1/1 [==============================] - 0s 56ms/step\n"
     ]
    },
    {
     "name": "stderr",
     "output_type": "stream",
     "text": [
      "[2023-12-14 13:17:11,405] ERROR in app: Exception on /_dash-update-component [POST]\n",
      "Traceback (most recent call last):\n",
      "  File \"C:\\Users\\skna1\\AppData\\Local\\Programs\\Python\\Python311\\Lib\\site-packages\\flask\\app.py\", line 2190, in wsgi_app\n",
      "    response = self.full_dispatch_request()\n",
      "               ^^^^^^^^^^^^^^^^^^^^^^^^^^^^\n",
      "  File \"C:\\Users\\skna1\\AppData\\Local\\Programs\\Python\\Python311\\Lib\\site-packages\\flask\\app.py\", line 1486, in full_dispatch_request\n",
      "    rv = self.handle_user_exception(e)\n",
      "         ^^^^^^^^^^^^^^^^^^^^^^^^^^^^^\n",
      "  File \"C:\\Users\\skna1\\AppData\\Local\\Programs\\Python\\Python311\\Lib\\site-packages\\flask\\app.py\", line 1484, in full_dispatch_request\n",
      "    rv = self.dispatch_request()\n",
      "         ^^^^^^^^^^^^^^^^^^^^^^^\n",
      "  File \"C:\\Users\\skna1\\AppData\\Local\\Programs\\Python\\Python311\\Lib\\site-packages\\flask\\app.py\", line 1469, in dispatch_request\n",
      "    return self.ensure_sync(self.view_functions[rule.endpoint])(**view_args)\n",
      "           ^^^^^^^^^^^^^^^^^^^^^^^^^^^^^^^^^^^^^^^^^^^^^^^^^^^^^^^^^^^^^^^^^\n",
      "  File \"C:\\Users\\skna1\\AppData\\Local\\Programs\\Python\\Python311\\Lib\\site-packages\\dash\\dash.py\", line 1310, in dispatch\n",
      "    ctx.run(\n",
      "  File \"C:\\Users\\skna1\\AppData\\Local\\Programs\\Python\\Python311\\Lib\\site-packages\\dash\\_callback.py\", line 442, in add_context\n",
      "    output_value = func(*func_args, **func_kwargs)  # %% callback invoked %%\n",
      "                   ^^^^^^^^^^^^^^^^^^^^^^^^^^^^^^^\n",
      "  File \"C:\\Users\\skna1\\AppData\\Local\\Temp\\ipykernel_20212\\4117366607.py\", line 251, in Prediction\n",
      "    latlng = re.split(',',latlng)\n",
      "             ^^^^^^^^^^^^^^^^^^^^\n",
      "  File \"C:\\Users\\skna1\\AppData\\Local\\Programs\\Python\\Python311\\Lib\\re\\__init__.py\", line 206, in split\n",
      "    return _compile(pattern, flags).split(string, maxsplit)\n",
      "           ^^^^^^^^^^^^^^^^^^^^^^^^^^^^^^^^^^^^^^^^^^^^^^^^\n",
      "TypeError: expected string or bytes-like object, got 'NoneType'\n"
     ]
    },
    {
     "name": "stdout",
     "output_type": "stream",
     "text": [
      "1/1 [==============================] - 0s 69ms/step\n"
     ]
    },
    {
     "name": "stderr",
     "output_type": "stream",
     "text": [
      "[2023-12-14 13:17:39,652] ERROR in app: Exception on /_dash-update-component [POST]\n",
      "Traceback (most recent call last):\n",
      "  File \"C:\\Users\\skna1\\AppData\\Local\\Programs\\Python\\Python311\\Lib\\site-packages\\flask\\app.py\", line 2190, in wsgi_app\n",
      "    response = self.full_dispatch_request()\n",
      "               ^^^^^^^^^^^^^^^^^^^^^^^^^^^^\n",
      "  File \"C:\\Users\\skna1\\AppData\\Local\\Programs\\Python\\Python311\\Lib\\site-packages\\flask\\app.py\", line 1486, in full_dispatch_request\n",
      "    rv = self.handle_user_exception(e)\n",
      "         ^^^^^^^^^^^^^^^^^^^^^^^^^^^^^\n",
      "  File \"C:\\Users\\skna1\\AppData\\Local\\Programs\\Python\\Python311\\Lib\\site-packages\\flask\\app.py\", line 1484, in full_dispatch_request\n",
      "    rv = self.dispatch_request()\n",
      "         ^^^^^^^^^^^^^^^^^^^^^^^\n",
      "  File \"C:\\Users\\skna1\\AppData\\Local\\Programs\\Python\\Python311\\Lib\\site-packages\\flask\\app.py\", line 1469, in dispatch_request\n",
      "    return self.ensure_sync(self.view_functions[rule.endpoint])(**view_args)\n",
      "           ^^^^^^^^^^^^^^^^^^^^^^^^^^^^^^^^^^^^^^^^^^^^^^^^^^^^^^^^^^^^^^^^^\n",
      "  File \"C:\\Users\\skna1\\AppData\\Local\\Programs\\Python\\Python311\\Lib\\site-packages\\dash\\dash.py\", line 1310, in dispatch\n",
      "    ctx.run(\n",
      "  File \"C:\\Users\\skna1\\AppData\\Local\\Programs\\Python\\Python311\\Lib\\site-packages\\dash\\_callback.py\", line 442, in add_context\n",
      "    output_value = func(*func_args, **func_kwargs)  # %% callback invoked %%\n",
      "                   ^^^^^^^^^^^^^^^^^^^^^^^^^^^^^^^\n",
      "  File \"C:\\Users\\skna1\\AppData\\Local\\Temp\\ipykernel_20212\\4117366607.py\", line 251, in Prediction\n",
      "    latlng = re.split(',',latlng)\n",
      "             ^^^^^^^^^^^^^^^^^^^^\n",
      "  File \"C:\\Users\\skna1\\AppData\\Local\\Programs\\Python\\Python311\\Lib\\re\\__init__.py\", line 206, in split\n",
      "    return _compile(pattern, flags).split(string, maxsplit)\n",
      "           ^^^^^^^^^^^^^^^^^^^^^^^^^^^^^^^^^^^^^^^^^^^^^^^^\n",
      "TypeError: expected string or bytes-like object, got 'NoneType'\n",
      "[2023-12-14 13:17:41,182] ERROR in app: Exception on /_dash-update-component [POST]\n",
      "Traceback (most recent call last):\n",
      "  File \"C:\\Users\\skna1\\AppData\\Local\\Programs\\Python\\Python311\\Lib\\site-packages\\flask\\app.py\", line 2190, in wsgi_app\n",
      "    response = self.full_dispatch_request()\n",
      "               ^^^^^^^^^^^^^^^^^^^^^^^^^^^^\n",
      "  File \"C:\\Users\\skna1\\AppData\\Local\\Programs\\Python\\Python311\\Lib\\site-packages\\flask\\app.py\", line 1486, in full_dispatch_request\n",
      "    rv = self.handle_user_exception(e)\n",
      "         ^^^^^^^^^^^^^^^^^^^^^^^^^^^^^\n",
      "  File \"C:\\Users\\skna1\\AppData\\Local\\Programs\\Python\\Python311\\Lib\\site-packages\\flask\\app.py\", line 1484, in full_dispatch_request\n",
      "    rv = self.dispatch_request()\n",
      "         ^^^^^^^^^^^^^^^^^^^^^^^\n",
      "  File \"C:\\Users\\skna1\\AppData\\Local\\Programs\\Python\\Python311\\Lib\\site-packages\\flask\\app.py\", line 1469, in dispatch_request\n",
      "    return self.ensure_sync(self.view_functions[rule.endpoint])(**view_args)\n",
      "           ^^^^^^^^^^^^^^^^^^^^^^^^^^^^^^^^^^^^^^^^^^^^^^^^^^^^^^^^^^^^^^^^^\n",
      "  File \"C:\\Users\\skna1\\AppData\\Local\\Programs\\Python\\Python311\\Lib\\site-packages\\dash\\dash.py\", line 1310, in dispatch\n",
      "    ctx.run(\n",
      "  File \"C:\\Users\\skna1\\AppData\\Local\\Programs\\Python\\Python311\\Lib\\site-packages\\dash\\_callback.py\", line 442, in add_context\n",
      "    output_value = func(*func_args, **func_kwargs)  # %% callback invoked %%\n",
      "                   ^^^^^^^^^^^^^^^^^^^^^^^^^^^^^^^\n",
      "  File \"C:\\Users\\skna1\\AppData\\Local\\Temp\\ipykernel_20212\\4117366607.py\", line 251, in Prediction\n",
      "    latlng = re.split(',',latlng)\n",
      "             ^^^^^^^^^^^^^^^^^^^^\n",
      "  File \"C:\\Users\\skna1\\AppData\\Local\\Programs\\Python\\Python311\\Lib\\re\\__init__.py\", line 206, in split\n",
      "    return _compile(pattern, flags).split(string, maxsplit)\n",
      "           ^^^^^^^^^^^^^^^^^^^^^^^^^^^^^^^^^^^^^^^^^^^^^^^^\n",
      "TypeError: expected string or bytes-like object, got 'NoneType'\n",
      "[2023-12-14 13:17:43,909] ERROR in app: Exception on /_dash-update-component [POST]\n",
      "Traceback (most recent call last):\n",
      "  File \"C:\\Users\\skna1\\AppData\\Local\\Programs\\Python\\Python311\\Lib\\site-packages\\flask\\app.py\", line 2190, in wsgi_app\n",
      "    response = self.full_dispatch_request()\n",
      "               ^^^^^^^^^^^^^^^^^^^^^^^^^^^^\n",
      "  File \"C:\\Users\\skna1\\AppData\\Local\\Programs\\Python\\Python311\\Lib\\site-packages\\flask\\app.py\", line 1486, in full_dispatch_request\n",
      "    rv = self.handle_user_exception(e)\n",
      "         ^^^^^^^^^^^^^^^^^^^^^^^^^^^^^\n",
      "  File \"C:\\Users\\skna1\\AppData\\Local\\Programs\\Python\\Python311\\Lib\\site-packages\\flask\\app.py\", line 1484, in full_dispatch_request\n",
      "    rv = self.dispatch_request()\n",
      "         ^^^^^^^^^^^^^^^^^^^^^^^\n",
      "  File \"C:\\Users\\skna1\\AppData\\Local\\Programs\\Python\\Python311\\Lib\\site-packages\\flask\\app.py\", line 1469, in dispatch_request\n",
      "    return self.ensure_sync(self.view_functions[rule.endpoint])(**view_args)\n",
      "           ^^^^^^^^^^^^^^^^^^^^^^^^^^^^^^^^^^^^^^^^^^^^^^^^^^^^^^^^^^^^^^^^^\n",
      "  File \"C:\\Users\\skna1\\AppData\\Local\\Programs\\Python\\Python311\\Lib\\site-packages\\dash\\dash.py\", line 1310, in dispatch\n",
      "    ctx.run(\n",
      "  File \"C:\\Users\\skna1\\AppData\\Local\\Programs\\Python\\Python311\\Lib\\site-packages\\dash\\_callback.py\", line 442, in add_context\n",
      "    output_value = func(*func_args, **func_kwargs)  # %% callback invoked %%\n",
      "                   ^^^^^^^^^^^^^^^^^^^^^^^^^^^^^^^\n",
      "  File \"C:\\Users\\skna1\\AppData\\Local\\Temp\\ipykernel_20212\\4117366607.py\", line 251, in Prediction\n",
      "    latlng = re.split(',',latlng)\n",
      "             ^^^^^^^^^^^^^^^^^^^^\n",
      "  File \"C:\\Users\\skna1\\AppData\\Local\\Programs\\Python\\Python311\\Lib\\re\\__init__.py\", line 206, in split\n",
      "    return _compile(pattern, flags).split(string, maxsplit)\n",
      "           ^^^^^^^^^^^^^^^^^^^^^^^^^^^^^^^^^^^^^^^^^^^^^^^^\n",
      "TypeError: expected string or bytes-like object, got 'NoneType'\n"
     ]
    },
    {
     "name": "stdout",
     "output_type": "stream",
     "text": [
      "1/1 [==============================] - 0s 44ms/step\n"
     ]
    },
    {
     "name": "stderr",
     "output_type": "stream",
     "text": [
      "[2023-12-14 13:18:07,796] ERROR in app: Exception on /_dash-update-component [POST]\n",
      "Traceback (most recent call last):\n",
      "  File \"C:\\Users\\skna1\\AppData\\Local\\Programs\\Python\\Python311\\Lib\\site-packages\\flask\\app.py\", line 2190, in wsgi_app\n",
      "    response = self.full_dispatch_request()\n",
      "               ^^^^^^^^^^^^^^^^^^^^^^^^^^^^\n",
      "  File \"C:\\Users\\skna1\\AppData\\Local\\Programs\\Python\\Python311\\Lib\\site-packages\\flask\\app.py\", line 1486, in full_dispatch_request\n",
      "    rv = self.handle_user_exception(e)\n",
      "         ^^^^^^^^^^^^^^^^^^^^^^^^^^^^^\n",
      "  File \"C:\\Users\\skna1\\AppData\\Local\\Programs\\Python\\Python311\\Lib\\site-packages\\flask\\app.py\", line 1484, in full_dispatch_request\n",
      "    rv = self.dispatch_request()\n",
      "         ^^^^^^^^^^^^^^^^^^^^^^^\n",
      "  File \"C:\\Users\\skna1\\AppData\\Local\\Programs\\Python\\Python311\\Lib\\site-packages\\flask\\app.py\", line 1469, in dispatch_request\n",
      "    return self.ensure_sync(self.view_functions[rule.endpoint])(**view_args)\n",
      "           ^^^^^^^^^^^^^^^^^^^^^^^^^^^^^^^^^^^^^^^^^^^^^^^^^^^^^^^^^^^^^^^^^\n",
      "  File \"C:\\Users\\skna1\\AppData\\Local\\Programs\\Python\\Python311\\Lib\\site-packages\\dash\\dash.py\", line 1310, in dispatch\n",
      "    ctx.run(\n",
      "  File \"C:\\Users\\skna1\\AppData\\Local\\Programs\\Python\\Python311\\Lib\\site-packages\\dash\\_callback.py\", line 442, in add_context\n",
      "    output_value = func(*func_args, **func_kwargs)  # %% callback invoked %%\n",
      "                   ^^^^^^^^^^^^^^^^^^^^^^^^^^^^^^^\n",
      "  File \"C:\\Users\\skna1\\AppData\\Local\\Temp\\ipykernel_20212\\4117366607.py\", line 251, in Prediction\n",
      "    latlng = re.split(',',latlng)\n",
      "             ^^^^^^^^^^^^^^^^^^^^\n",
      "  File \"C:\\Users\\skna1\\AppData\\Local\\Programs\\Python\\Python311\\Lib\\re\\__init__.py\", line 206, in split\n",
      "    return _compile(pattern, flags).split(string, maxsplit)\n",
      "           ^^^^^^^^^^^^^^^^^^^^^^^^^^^^^^^^^^^^^^^^^^^^^^^^\n",
      "TypeError: expected string or bytes-like object, got 'NoneType'\n",
      "[2023-12-14 13:18:20,497] ERROR in app: Exception on /_dash-update-component [POST]\n",
      "Traceback (most recent call last):\n",
      "  File \"C:\\Users\\skna1\\AppData\\Local\\Programs\\Python\\Python311\\Lib\\site-packages\\flask\\app.py\", line 2190, in wsgi_app\n",
      "    response = self.full_dispatch_request()\n",
      "               ^^^^^^^^^^^^^^^^^^^^^^^^^^^^\n",
      "  File \"C:\\Users\\skna1\\AppData\\Local\\Programs\\Python\\Python311\\Lib\\site-packages\\flask\\app.py\", line 1486, in full_dispatch_request\n",
      "    rv = self.handle_user_exception(e)\n",
      "         ^^^^^^^^^^^^^^^^^^^^^^^^^^^^^\n",
      "  File \"C:\\Users\\skna1\\AppData\\Local\\Programs\\Python\\Python311\\Lib\\site-packages\\flask\\app.py\", line 1484, in full_dispatch_request\n",
      "    rv = self.dispatch_request()\n",
      "         ^^^^^^^^^^^^^^^^^^^^^^^\n",
      "  File \"C:\\Users\\skna1\\AppData\\Local\\Programs\\Python\\Python311\\Lib\\site-packages\\flask\\app.py\", line 1469, in dispatch_request\n",
      "    return self.ensure_sync(self.view_functions[rule.endpoint])(**view_args)\n",
      "           ^^^^^^^^^^^^^^^^^^^^^^^^^^^^^^^^^^^^^^^^^^^^^^^^^^^^^^^^^^^^^^^^^\n",
      "  File \"C:\\Users\\skna1\\AppData\\Local\\Programs\\Python\\Python311\\Lib\\site-packages\\dash\\dash.py\", line 1310, in dispatch\n",
      "    ctx.run(\n",
      "  File \"C:\\Users\\skna1\\AppData\\Local\\Programs\\Python\\Python311\\Lib\\site-packages\\dash\\_callback.py\", line 442, in add_context\n",
      "    output_value = func(*func_args, **func_kwargs)  # %% callback invoked %%\n",
      "                   ^^^^^^^^^^^^^^^^^^^^^^^^^^^^^^^\n",
      "  File \"C:\\Users\\skna1\\AppData\\Local\\Temp\\ipykernel_20212\\4117366607.py\", line 251, in Prediction\n",
      "    latlng = re.split(',',latlng)\n",
      "             ^^^^^^^^^^^^^^^^^^^^\n",
      "  File \"C:\\Users\\skna1\\AppData\\Local\\Programs\\Python\\Python311\\Lib\\re\\__init__.py\", line 206, in split\n",
      "    return _compile(pattern, flags).split(string, maxsplit)\n",
      "           ^^^^^^^^^^^^^^^^^^^^^^^^^^^^^^^^^^^^^^^^^^^^^^^^\n",
      "TypeError: expected string or bytes-like object, got 'NoneType'\n",
      "[2023-12-14 13:18:23,426] ERROR in app: Exception on /_dash-update-component [POST]\n",
      "Traceback (most recent call last):\n",
      "  File \"C:\\Users\\skna1\\AppData\\Local\\Programs\\Python\\Python311\\Lib\\site-packages\\flask\\app.py\", line 2190, in wsgi_app\n",
      "    response = self.full_dispatch_request()\n",
      "               ^^^^^^^^^^^^^^^^^^^^^^^^^^^^\n",
      "  File \"C:\\Users\\skna1\\AppData\\Local\\Programs\\Python\\Python311\\Lib\\site-packages\\flask\\app.py\", line 1486, in full_dispatch_request\n",
      "    rv = self.handle_user_exception(e)\n",
      "         ^^^^^^^^^^^^^^^^^^^^^^^^^^^^^\n",
      "  File \"C:\\Users\\skna1\\AppData\\Local\\Programs\\Python\\Python311\\Lib\\site-packages\\flask\\app.py\", line 1484, in full_dispatch_request\n",
      "    rv = self.dispatch_request()\n",
      "         ^^^^^^^^^^^^^^^^^^^^^^^\n",
      "  File \"C:\\Users\\skna1\\AppData\\Local\\Programs\\Python\\Python311\\Lib\\site-packages\\flask\\app.py\", line 1469, in dispatch_request\n",
      "    return self.ensure_sync(self.view_functions[rule.endpoint])(**view_args)\n",
      "           ^^^^^^^^^^^^^^^^^^^^^^^^^^^^^^^^^^^^^^^^^^^^^^^^^^^^^^^^^^^^^^^^^\n",
      "  File \"C:\\Users\\skna1\\AppData\\Local\\Programs\\Python\\Python311\\Lib\\site-packages\\dash\\dash.py\", line 1310, in dispatch\n",
      "    ctx.run(\n",
      "  File \"C:\\Users\\skna1\\AppData\\Local\\Programs\\Python\\Python311\\Lib\\site-packages\\dash\\_callback.py\", line 442, in add_context\n",
      "    output_value = func(*func_args, **func_kwargs)  # %% callback invoked %%\n",
      "                   ^^^^^^^^^^^^^^^^^^^^^^^^^^^^^^^\n",
      "  File \"C:\\Users\\skna1\\AppData\\Local\\Temp\\ipykernel_20212\\4117366607.py\", line 251, in Prediction\n",
      "    latlng = re.split(',',latlng)\n",
      "             ^^^^^^^^^^^^^^^^^^^^\n",
      "  File \"C:\\Users\\skna1\\AppData\\Local\\Programs\\Python\\Python311\\Lib\\re\\__init__.py\", line 206, in split\n",
      "    return _compile(pattern, flags).split(string, maxsplit)\n",
      "           ^^^^^^^^^^^^^^^^^^^^^^^^^^^^^^^^^^^^^^^^^^^^^^^^\n",
      "TypeError: expected string or bytes-like object, got 'NoneType'\n",
      "[2023-12-14 13:18:24,948] ERROR in app: Exception on /_dash-update-component [POST]\n",
      "Traceback (most recent call last):\n",
      "  File \"C:\\Users\\skna1\\AppData\\Local\\Programs\\Python\\Python311\\Lib\\site-packages\\flask\\app.py\", line 2190, in wsgi_app\n",
      "    response = self.full_dispatch_request()\n",
      "               ^^^^^^^^^^^^^^^^^^^^^^^^^^^^\n",
      "  File \"C:\\Users\\skna1\\AppData\\Local\\Programs\\Python\\Python311\\Lib\\site-packages\\flask\\app.py\", line 1486, in full_dispatch_request\n",
      "    rv = self.handle_user_exception(e)\n",
      "         ^^^^^^^^^^^^^^^^^^^^^^^^^^^^^\n",
      "  File \"C:\\Users\\skna1\\AppData\\Local\\Programs\\Python\\Python311\\Lib\\site-packages\\flask\\app.py\", line 1484, in full_dispatch_request\n",
      "    rv = self.dispatch_request()\n",
      "         ^^^^^^^^^^^^^^^^^^^^^^^\n",
      "  File \"C:\\Users\\skna1\\AppData\\Local\\Programs\\Python\\Python311\\Lib\\site-packages\\flask\\app.py\", line 1469, in dispatch_request\n",
      "    return self.ensure_sync(self.view_functions[rule.endpoint])(**view_args)\n",
      "           ^^^^^^^^^^^^^^^^^^^^^^^^^^^^^^^^^^^^^^^^^^^^^^^^^^^^^^^^^^^^^^^^^\n",
      "  File \"C:\\Users\\skna1\\AppData\\Local\\Programs\\Python\\Python311\\Lib\\site-packages\\dash\\dash.py\", line 1310, in dispatch\n",
      "    ctx.run(\n",
      "  File \"C:\\Users\\skna1\\AppData\\Local\\Programs\\Python\\Python311\\Lib\\site-packages\\dash\\_callback.py\", line 442, in add_context\n",
      "    output_value = func(*func_args, **func_kwargs)  # %% callback invoked %%\n",
      "                   ^^^^^^^^^^^^^^^^^^^^^^^^^^^^^^^\n",
      "  File \"C:\\Users\\skna1\\AppData\\Local\\Temp\\ipykernel_20212\\4117366607.py\", line 281, in Prediction\n",
      "    index = np.argmax(R)\n",
      "            ^^^^^^^^^^^^\n",
      "  File \"C:\\Users\\skna1\\AppData\\Local\\Programs\\Python\\Python311\\Lib\\site-packages\\numpy\\core\\fromnumeric.py\", line 1229, in argmax\n",
      "    return _wrapfunc(a, 'argmax', axis=axis, out=out, **kwds)\n",
      "           ^^^^^^^^^^^^^^^^^^^^^^^^^^^^^^^^^^^^^^^^^^^^^^^^^^\n",
      "  File \"C:\\Users\\skna1\\AppData\\Local\\Programs\\Python\\Python311\\Lib\\site-packages\\numpy\\core\\fromnumeric.py\", line 56, in _wrapfunc\n",
      "    return _wrapit(obj, method, *args, **kwds)\n",
      "           ^^^^^^^^^^^^^^^^^^^^^^^^^^^^^^^^^^^\n",
      "  File \"C:\\Users\\skna1\\AppData\\Local\\Programs\\Python\\Python311\\Lib\\site-packages\\numpy\\core\\fromnumeric.py\", line 45, in _wrapit\n",
      "    result = getattr(asarray(obj), method)(*args, **kwds)\n",
      "             ^^^^^^^^^^^^^^^^^^^^^^^^^^^^^^^^^^^^^^^^^^^^\n",
      "ValueError: attempt to get argmax of an empty sequence\n"
     ]
    },
    {
     "name": "stdout",
     "output_type": "stream",
     "text": [
      "1/1 [==============================] - 0s 50ms/step\n"
     ]
    },
    {
     "name": "stderr",
     "output_type": "stream",
     "text": [
      "[2023-12-14 13:18:39,668] ERROR in app: Exception on /_dash-update-component [POST]\n",
      "Traceback (most recent call last):\n",
      "  File \"C:\\Users\\skna1\\AppData\\Local\\Programs\\Python\\Python311\\Lib\\site-packages\\flask\\app.py\", line 2190, in wsgi_app\n",
      "    response = self.full_dispatch_request()\n",
      "               ^^^^^^^^^^^^^^^^^^^^^^^^^^^^\n",
      "  File \"C:\\Users\\skna1\\AppData\\Local\\Programs\\Python\\Python311\\Lib\\site-packages\\flask\\app.py\", line 1486, in full_dispatch_request\n",
      "    rv = self.handle_user_exception(e)\n",
      "         ^^^^^^^^^^^^^^^^^^^^^^^^^^^^^\n",
      "  File \"C:\\Users\\skna1\\AppData\\Local\\Programs\\Python\\Python311\\Lib\\site-packages\\flask\\app.py\", line 1484, in full_dispatch_request\n",
      "    rv = self.dispatch_request()\n",
      "         ^^^^^^^^^^^^^^^^^^^^^^^\n",
      "  File \"C:\\Users\\skna1\\AppData\\Local\\Programs\\Python\\Python311\\Lib\\site-packages\\flask\\app.py\", line 1469, in dispatch_request\n",
      "    return self.ensure_sync(self.view_functions[rule.endpoint])(**view_args)\n",
      "           ^^^^^^^^^^^^^^^^^^^^^^^^^^^^^^^^^^^^^^^^^^^^^^^^^^^^^^^^^^^^^^^^^\n",
      "  File \"C:\\Users\\skna1\\AppData\\Local\\Programs\\Python\\Python311\\Lib\\site-packages\\dash\\dash.py\", line 1310, in dispatch\n",
      "    ctx.run(\n",
      "  File \"C:\\Users\\skna1\\AppData\\Local\\Programs\\Python\\Python311\\Lib\\site-packages\\dash\\_callback.py\", line 442, in add_context\n",
      "    output_value = func(*func_args, **func_kwargs)  # %% callback invoked %%\n",
      "                   ^^^^^^^^^^^^^^^^^^^^^^^^^^^^^^^\n",
      "  File \"C:\\Users\\skna1\\AppData\\Local\\Temp\\ipykernel_20212\\4117366607.py\", line 251, in Prediction\n",
      "    latlng = re.split(',',latlng)\n",
      "             ^^^^^^^^^^^^^^^^^^^^\n",
      "  File \"C:\\Users\\skna1\\AppData\\Local\\Programs\\Python\\Python311\\Lib\\re\\__init__.py\", line 206, in split\n",
      "    return _compile(pattern, flags).split(string, maxsplit)\n",
      "           ^^^^^^^^^^^^^^^^^^^^^^^^^^^^^^^^^^^^^^^^^^^^^^^^\n",
      "TypeError: expected string or bytes-like object, got 'NoneType'\n"
     ]
    },
    {
     "name": "stdout",
     "output_type": "stream",
     "text": [
      "1/1 [==============================] - 0s 65ms/step\n"
     ]
    },
    {
     "name": "stderr",
     "output_type": "stream",
     "text": [
      "[2023-12-14 13:18:45,392] ERROR in app: Exception on /_dash-update-component [POST]\n",
      "Traceback (most recent call last):\n",
      "  File \"C:\\Users\\skna1\\AppData\\Local\\Programs\\Python\\Python311\\Lib\\site-packages\\flask\\app.py\", line 2190, in wsgi_app\n",
      "    response = self.full_dispatch_request()\n",
      "               ^^^^^^^^^^^^^^^^^^^^^^^^^^^^\n",
      "  File \"C:\\Users\\skna1\\AppData\\Local\\Programs\\Python\\Python311\\Lib\\site-packages\\flask\\app.py\", line 1486, in full_dispatch_request\n",
      "    rv = self.handle_user_exception(e)\n",
      "         ^^^^^^^^^^^^^^^^^^^^^^^^^^^^^\n",
      "  File \"C:\\Users\\skna1\\AppData\\Local\\Programs\\Python\\Python311\\Lib\\site-packages\\flask\\app.py\", line 1484, in full_dispatch_request\n",
      "    rv = self.dispatch_request()\n",
      "         ^^^^^^^^^^^^^^^^^^^^^^^\n",
      "  File \"C:\\Users\\skna1\\AppData\\Local\\Programs\\Python\\Python311\\Lib\\site-packages\\flask\\app.py\", line 1469, in dispatch_request\n",
      "    return self.ensure_sync(self.view_functions[rule.endpoint])(**view_args)\n",
      "           ^^^^^^^^^^^^^^^^^^^^^^^^^^^^^^^^^^^^^^^^^^^^^^^^^^^^^^^^^^^^^^^^^\n",
      "  File \"C:\\Users\\skna1\\AppData\\Local\\Programs\\Python\\Python311\\Lib\\site-packages\\dash\\dash.py\", line 1310, in dispatch\n",
      "    ctx.run(\n",
      "  File \"C:\\Users\\skna1\\AppData\\Local\\Programs\\Python\\Python311\\Lib\\site-packages\\dash\\_callback.py\", line 442, in add_context\n",
      "    output_value = func(*func_args, **func_kwargs)  # %% callback invoked %%\n",
      "                   ^^^^^^^^^^^^^^^^^^^^^^^^^^^^^^^\n",
      "  File \"C:\\Users\\skna1\\AppData\\Local\\Temp\\ipykernel_20212\\4117366607.py\", line 251, in Prediction\n",
      "    latlng = re.split(',',latlng)\n",
      "             ^^^^^^^^^^^^^^^^^^^^\n",
      "  File \"C:\\Users\\skna1\\AppData\\Local\\Programs\\Python\\Python311\\Lib\\re\\__init__.py\", line 206, in split\n",
      "    return _compile(pattern, flags).split(string, maxsplit)\n",
      "           ^^^^^^^^^^^^^^^^^^^^^^^^^^^^^^^^^^^^^^^^^^^^^^^^\n",
      "TypeError: expected string or bytes-like object, got 'NoneType'\n",
      "[2023-12-14 13:18:52,593] ERROR in app: Exception on /_dash-update-component [POST]\n",
      "Traceback (most recent call last):\n",
      "  File \"C:\\Users\\skna1\\AppData\\Local\\Programs\\Python\\Python311\\Lib\\site-packages\\flask\\app.py\", line 2190, in wsgi_app\n",
      "    response = self.full_dispatch_request()\n",
      "               ^^^^^^^^^^^^^^^^^^^^^^^^^^^^\n",
      "  File \"C:\\Users\\skna1\\AppData\\Local\\Programs\\Python\\Python311\\Lib\\site-packages\\flask\\app.py\", line 1486, in full_dispatch_request\n",
      "    rv = self.handle_user_exception(e)\n",
      "         ^^^^^^^^^^^^^^^^^^^^^^^^^^^^^\n",
      "  File \"C:\\Users\\skna1\\AppData\\Local\\Programs\\Python\\Python311\\Lib\\site-packages\\flask\\app.py\", line 1484, in full_dispatch_request\n",
      "    rv = self.dispatch_request()\n",
      "         ^^^^^^^^^^^^^^^^^^^^^^^\n",
      "  File \"C:\\Users\\skna1\\AppData\\Local\\Programs\\Python\\Python311\\Lib\\site-packages\\flask\\app.py\", line 1469, in dispatch_request\n",
      "    return self.ensure_sync(self.view_functions[rule.endpoint])(**view_args)\n",
      "           ^^^^^^^^^^^^^^^^^^^^^^^^^^^^^^^^^^^^^^^^^^^^^^^^^^^^^^^^^^^^^^^^^\n",
      "  File \"C:\\Users\\skna1\\AppData\\Local\\Programs\\Python\\Python311\\Lib\\site-packages\\dash\\dash.py\", line 1310, in dispatch\n",
      "    ctx.run(\n",
      "  File \"C:\\Users\\skna1\\AppData\\Local\\Programs\\Python\\Python311\\Lib\\site-packages\\dash\\_callback.py\", line 442, in add_context\n",
      "    output_value = func(*func_args, **func_kwargs)  # %% callback invoked %%\n",
      "                   ^^^^^^^^^^^^^^^^^^^^^^^^^^^^^^^\n",
      "  File \"C:\\Users\\skna1\\AppData\\Local\\Temp\\ipykernel_20212\\4117366607.py\", line 251, in Prediction\n",
      "    latlng = re.split(',',latlng)\n",
      "             ^^^^^^^^^^^^^^^^^^^^\n",
      "  File \"C:\\Users\\skna1\\AppData\\Local\\Programs\\Python\\Python311\\Lib\\re\\__init__.py\", line 206, in split\n",
      "    return _compile(pattern, flags).split(string, maxsplit)\n",
      "           ^^^^^^^^^^^^^^^^^^^^^^^^^^^^^^^^^^^^^^^^^^^^^^^^\n",
      "TypeError: expected string or bytes-like object, got 'NoneType'\n",
      "[2023-12-14 13:18:55,472] ERROR in app: Exception on /_dash-update-component [POST]\n",
      "Traceback (most recent call last):\n",
      "  File \"C:\\Users\\skna1\\AppData\\Local\\Programs\\Python\\Python311\\Lib\\site-packages\\flask\\app.py\", line 2190, in wsgi_app\n",
      "    response = self.full_dispatch_request()\n",
      "               ^^^^^^^^^^^^^^^^^^^^^^^^^^^^\n",
      "  File \"C:\\Users\\skna1\\AppData\\Local\\Programs\\Python\\Python311\\Lib\\site-packages\\flask\\app.py\", line 1486, in full_dispatch_request\n",
      "    rv = self.handle_user_exception(e)\n",
      "         ^^^^^^^^^^^^^^^^^^^^^^^^^^^^^\n",
      "  File \"C:\\Users\\skna1\\AppData\\Local\\Programs\\Python\\Python311\\Lib\\site-packages\\flask\\app.py\", line 1484, in full_dispatch_request\n",
      "    rv = self.dispatch_request()\n",
      "         ^^^^^^^^^^^^^^^^^^^^^^^\n",
      "  File \"C:\\Users\\skna1\\AppData\\Local\\Programs\\Python\\Python311\\Lib\\site-packages\\flask\\app.py\", line 1469, in dispatch_request\n",
      "    return self.ensure_sync(self.view_functions[rule.endpoint])(**view_args)\n",
      "           ^^^^^^^^^^^^^^^^^^^^^^^^^^^^^^^^^^^^^^^^^^^^^^^^^^^^^^^^^^^^^^^^^\n",
      "  File \"C:\\Users\\skna1\\AppData\\Local\\Programs\\Python\\Python311\\Lib\\site-packages\\dash\\dash.py\", line 1310, in dispatch\n",
      "    ctx.run(\n",
      "  File \"C:\\Users\\skna1\\AppData\\Local\\Programs\\Python\\Python311\\Lib\\site-packages\\dash\\_callback.py\", line 442, in add_context\n",
      "    output_value = func(*func_args, **func_kwargs)  # %% callback invoked %%\n",
      "                   ^^^^^^^^^^^^^^^^^^^^^^^^^^^^^^^\n",
      "  File \"C:\\Users\\skna1\\AppData\\Local\\Temp\\ipykernel_20212\\4117366607.py\", line 251, in Prediction\n",
      "    latlng = re.split(',',latlng)\n",
      "             ^^^^^^^^^^^^^^^^^^^^\n",
      "  File \"C:\\Users\\skna1\\AppData\\Local\\Programs\\Python\\Python311\\Lib\\re\\__init__.py\", line 206, in split\n",
      "    return _compile(pattern, flags).split(string, maxsplit)\n",
      "           ^^^^^^^^^^^^^^^^^^^^^^^^^^^^^^^^^^^^^^^^^^^^^^^^\n",
      "TypeError: expected string or bytes-like object, got 'NoneType'\n",
      "[2023-12-14 13:18:57,248] ERROR in app: Exception on /_dash-update-component [POST]\n",
      "Traceback (most recent call last):\n",
      "  File \"C:\\Users\\skna1\\AppData\\Local\\Programs\\Python\\Python311\\Lib\\site-packages\\flask\\app.py\", line 2190, in wsgi_app\n",
      "    response = self.full_dispatch_request()\n",
      "               ^^^^^^^^^^^^^^^^^^^^^^^^^^^^\n",
      "  File \"C:\\Users\\skna1\\AppData\\Local\\Programs\\Python\\Python311\\Lib\\site-packages\\flask\\app.py\", line 1486, in full_dispatch_request\n",
      "    rv = self.handle_user_exception(e)\n",
      "         ^^^^^^^^^^^^^^^^^^^^^^^^^^^^^\n",
      "  File \"C:\\Users\\skna1\\AppData\\Local\\Programs\\Python\\Python311\\Lib\\site-packages\\flask\\app.py\", line 1484, in full_dispatch_request\n",
      "    rv = self.dispatch_request()\n",
      "         ^^^^^^^^^^^^^^^^^^^^^^^\n",
      "  File \"C:\\Users\\skna1\\AppData\\Local\\Programs\\Python\\Python311\\Lib\\site-packages\\flask\\app.py\", line 1469, in dispatch_request\n",
      "    return self.ensure_sync(self.view_functions[rule.endpoint])(**view_args)\n",
      "           ^^^^^^^^^^^^^^^^^^^^^^^^^^^^^^^^^^^^^^^^^^^^^^^^^^^^^^^^^^^^^^^^^\n",
      "  File \"C:\\Users\\skna1\\AppData\\Local\\Programs\\Python\\Python311\\Lib\\site-packages\\dash\\dash.py\", line 1310, in dispatch\n",
      "    ctx.run(\n",
      "  File \"C:\\Users\\skna1\\AppData\\Local\\Programs\\Python\\Python311\\Lib\\site-packages\\dash\\_callback.py\", line 442, in add_context\n",
      "    output_value = func(*func_args, **func_kwargs)  # %% callback invoked %%\n",
      "                   ^^^^^^^^^^^^^^^^^^^^^^^^^^^^^^^\n",
      "  File \"C:\\Users\\skna1\\AppData\\Local\\Temp\\ipykernel_20212\\4117366607.py\", line 251, in Prediction\n",
      "    latlng = re.split(',',latlng)\n",
      "             ^^^^^^^^^^^^^^^^^^^^\n",
      "  File \"C:\\Users\\skna1\\AppData\\Local\\Programs\\Python\\Python311\\Lib\\re\\__init__.py\", line 206, in split\n",
      "    return _compile(pattern, flags).split(string, maxsplit)\n",
      "           ^^^^^^^^^^^^^^^^^^^^^^^^^^^^^^^^^^^^^^^^^^^^^^^^\n",
      "TypeError: expected string or bytes-like object, got 'NoneType'\n",
      "[2023-12-14 13:18:58,961] ERROR in app: Exception on /_dash-update-component [POST]\n",
      "Traceback (most recent call last):\n",
      "  File \"C:\\Users\\skna1\\AppData\\Local\\Programs\\Python\\Python311\\Lib\\site-packages\\flask\\app.py\", line 2190, in wsgi_app\n",
      "    response = self.full_dispatch_request()\n",
      "               ^^^^^^^^^^^^^^^^^^^^^^^^^^^^\n",
      "  File \"C:\\Users\\skna1\\AppData\\Local\\Programs\\Python\\Python311\\Lib\\site-packages\\flask\\app.py\", line 1486, in full_dispatch_request\n",
      "    rv = self.handle_user_exception(e)\n",
      "         ^^^^^^^^^^^^^^^^^^^^^^^^^^^^^\n",
      "  File \"C:\\Users\\skna1\\AppData\\Local\\Programs\\Python\\Python311\\Lib\\site-packages\\flask\\app.py\", line 1484, in full_dispatch_request\n",
      "    rv = self.dispatch_request()\n",
      "         ^^^^^^^^^^^^^^^^^^^^^^^\n",
      "  File \"C:\\Users\\skna1\\AppData\\Local\\Programs\\Python\\Python311\\Lib\\site-packages\\flask\\app.py\", line 1469, in dispatch_request\n",
      "    return self.ensure_sync(self.view_functions[rule.endpoint])(**view_args)\n",
      "           ^^^^^^^^^^^^^^^^^^^^^^^^^^^^^^^^^^^^^^^^^^^^^^^^^^^^^^^^^^^^^^^^^\n",
      "  File \"C:\\Users\\skna1\\AppData\\Local\\Programs\\Python\\Python311\\Lib\\site-packages\\dash\\dash.py\", line 1310, in dispatch\n",
      "    ctx.run(\n",
      "  File \"C:\\Users\\skna1\\AppData\\Local\\Programs\\Python\\Python311\\Lib\\site-packages\\dash\\_callback.py\", line 442, in add_context\n",
      "    output_value = func(*func_args, **func_kwargs)  # %% callback invoked %%\n",
      "                   ^^^^^^^^^^^^^^^^^^^^^^^^^^^^^^^\n",
      "  File \"C:\\Users\\skna1\\AppData\\Local\\Temp\\ipykernel_20212\\4117366607.py\", line 251, in Prediction\n",
      "    latlng = re.split(',',latlng)\n",
      "             ^^^^^^^^^^^^^^^^^^^^\n",
      "  File \"C:\\Users\\skna1\\AppData\\Local\\Programs\\Python\\Python311\\Lib\\re\\__init__.py\", line 206, in split\n",
      "    return _compile(pattern, flags).split(string, maxsplit)\n",
      "           ^^^^^^^^^^^^^^^^^^^^^^^^^^^^^^^^^^^^^^^^^^^^^^^^\n",
      "TypeError: expected string or bytes-like object, got 'NoneType'\n",
      "[2023-12-14 13:26:44,718] ERROR in app: Exception on /_dash-update-component [POST]\n",
      "Traceback (most recent call last):\n",
      "  File \"C:\\Users\\skna1\\AppData\\Local\\Programs\\Python\\Python311\\Lib\\site-packages\\flask\\app.py\", line 2190, in wsgi_app\n",
      "    response = self.full_dispatch_request()\n",
      "               ^^^^^^^^^^^^^^^^^^^^^^^^^^^^\n",
      "  File \"C:\\Users\\skna1\\AppData\\Local\\Programs\\Python\\Python311\\Lib\\site-packages\\flask\\app.py\", line 1486, in full_dispatch_request\n",
      "    rv = self.handle_user_exception(e)\n",
      "         ^^^^^^^^^^^^^^^^^^^^^^^^^^^^^\n",
      "  File \"C:\\Users\\skna1\\AppData\\Local\\Programs\\Python\\Python311\\Lib\\site-packages\\flask\\app.py\", line 1484, in full_dispatch_request\n",
      "    rv = self.dispatch_request()\n",
      "         ^^^^^^^^^^^^^^^^^^^^^^^\n",
      "  File \"C:\\Users\\skna1\\AppData\\Local\\Programs\\Python\\Python311\\Lib\\site-packages\\flask\\app.py\", line 1469, in dispatch_request\n",
      "    return self.ensure_sync(self.view_functions[rule.endpoint])(**view_args)\n",
      "           ^^^^^^^^^^^^^^^^^^^^^^^^^^^^^^^^^^^^^^^^^^^^^^^^^^^^^^^^^^^^^^^^^\n",
      "  File \"C:\\Users\\skna1\\AppData\\Local\\Programs\\Python\\Python311\\Lib\\site-packages\\dash\\dash.py\", line 1310, in dispatch\n",
      "    ctx.run(\n",
      "  File \"C:\\Users\\skna1\\AppData\\Local\\Programs\\Python\\Python311\\Lib\\site-packages\\dash\\_callback.py\", line 442, in add_context\n",
      "    output_value = func(*func_args, **func_kwargs)  # %% callback invoked %%\n",
      "                   ^^^^^^^^^^^^^^^^^^^^^^^^^^^^^^^\n",
      "  File \"C:\\Users\\skna1\\AppData\\Local\\Temp\\ipykernel_20212\\4117366607.py\", line 251, in Prediction\n",
      "    latlng = re.split(',',latlng)\n",
      "             ^^^^^^^^^^^^^^^^^^^^\n",
      "  File \"C:\\Users\\skna1\\AppData\\Local\\Programs\\Python\\Python311\\Lib\\re\\__init__.py\", line 206, in split\n",
      "    return _compile(pattern, flags).split(string, maxsplit)\n",
      "           ^^^^^^^^^^^^^^^^^^^^^^^^^^^^^^^^^^^^^^^^^^^^^^^^\n",
      "TypeError: expected string or bytes-like object, got 'NoneType'\n"
     ]
    },
    {
     "name": "stdout",
     "output_type": "stream",
     "text": [
      "1/1 [==============================] - 0s 50ms/step\n"
     ]
    },
    {
     "name": "stderr",
     "output_type": "stream",
     "text": [
      "[2023-12-14 13:41:10,223] ERROR in app: Exception on /_dash-update-component [POST]\n",
      "Traceback (most recent call last):\n",
      "  File \"C:\\Users\\skna1\\AppData\\Local\\Programs\\Python\\Python311\\Lib\\site-packages\\flask\\app.py\", line 2190, in wsgi_app\n",
      "    response = self.full_dispatch_request()\n",
      "               ^^^^^^^^^^^^^^^^^^^^^^^^^^^^\n",
      "  File \"C:\\Users\\skna1\\AppData\\Local\\Programs\\Python\\Python311\\Lib\\site-packages\\flask\\app.py\", line 1486, in full_dispatch_request\n",
      "    rv = self.handle_user_exception(e)\n",
      "         ^^^^^^^^^^^^^^^^^^^^^^^^^^^^^\n",
      "  File \"C:\\Users\\skna1\\AppData\\Local\\Programs\\Python\\Python311\\Lib\\site-packages\\flask\\app.py\", line 1484, in full_dispatch_request\n",
      "    rv = self.dispatch_request()\n",
      "         ^^^^^^^^^^^^^^^^^^^^^^^\n",
      "  File \"C:\\Users\\skna1\\AppData\\Local\\Programs\\Python\\Python311\\Lib\\site-packages\\flask\\app.py\", line 1469, in dispatch_request\n",
      "    return self.ensure_sync(self.view_functions[rule.endpoint])(**view_args)\n",
      "           ^^^^^^^^^^^^^^^^^^^^^^^^^^^^^^^^^^^^^^^^^^^^^^^^^^^^^^^^^^^^^^^^^\n",
      "  File \"C:\\Users\\skna1\\AppData\\Local\\Programs\\Python\\Python311\\Lib\\site-packages\\dash\\dash.py\", line 1310, in dispatch\n",
      "    ctx.run(\n",
      "  File \"C:\\Users\\skna1\\AppData\\Local\\Programs\\Python\\Python311\\Lib\\site-packages\\dash\\_callback.py\", line 442, in add_context\n",
      "    output_value = func(*func_args, **func_kwargs)  # %% callback invoked %%\n",
      "                   ^^^^^^^^^^^^^^^^^^^^^^^^^^^^^^^\n",
      "  File \"C:\\Users\\skna1\\AppData\\Local\\Temp\\ipykernel_20212\\4117366607.py\", line 251, in Prediction\n",
      "    latlng = re.split(',',latlng)\n",
      "             ^^^^^^^^^^^^^^^^^^^^\n",
      "  File \"C:\\Users\\skna1\\AppData\\Local\\Programs\\Python\\Python311\\Lib\\re\\__init__.py\", line 206, in split\n",
      "    return _compile(pattern, flags).split(string, maxsplit)\n",
      "           ^^^^^^^^^^^^^^^^^^^^^^^^^^^^^^^^^^^^^^^^^^^^^^^^\n",
      "TypeError: expected string or bytes-like object, got 'NoneType'\n"
     ]
    },
    {
     "name": "stdout",
     "output_type": "stream",
     "text": [
      "1/1 [==============================] - 0s 33ms/step\n"
     ]
    },
    {
     "name": "stderr",
     "output_type": "stream",
     "text": [
      "[2023-12-14 13:41:23,561] ERROR in app: Exception on /_dash-update-component [POST]\n",
      "Traceback (most recent call last):\n",
      "  File \"C:\\Users\\skna1\\AppData\\Local\\Programs\\Python\\Python311\\Lib\\site-packages\\flask\\app.py\", line 2190, in wsgi_app\n",
      "    response = self.full_dispatch_request()\n",
      "               ^^^^^^^^^^^^^^^^^^^^^^^^^^^^\n",
      "  File \"C:\\Users\\skna1\\AppData\\Local\\Programs\\Python\\Python311\\Lib\\site-packages\\flask\\app.py\", line 1486, in full_dispatch_request\n",
      "    rv = self.handle_user_exception(e)\n",
      "         ^^^^^^^^^^^^^^^^^^^^^^^^^^^^^\n",
      "  File \"C:\\Users\\skna1\\AppData\\Local\\Programs\\Python\\Python311\\Lib\\site-packages\\flask\\app.py\", line 1484, in full_dispatch_request\n",
      "    rv = self.dispatch_request()\n",
      "         ^^^^^^^^^^^^^^^^^^^^^^^\n",
      "  File \"C:\\Users\\skna1\\AppData\\Local\\Programs\\Python\\Python311\\Lib\\site-packages\\flask\\app.py\", line 1469, in dispatch_request\n",
      "    return self.ensure_sync(self.view_functions[rule.endpoint])(**view_args)\n",
      "           ^^^^^^^^^^^^^^^^^^^^^^^^^^^^^^^^^^^^^^^^^^^^^^^^^^^^^^^^^^^^^^^^^\n",
      "  File \"C:\\Users\\skna1\\AppData\\Local\\Programs\\Python\\Python311\\Lib\\site-packages\\dash\\dash.py\", line 1310, in dispatch\n",
      "    ctx.run(\n",
      "  File \"C:\\Users\\skna1\\AppData\\Local\\Programs\\Python\\Python311\\Lib\\site-packages\\dash\\_callback.py\", line 442, in add_context\n",
      "    output_value = func(*func_args, **func_kwargs)  # %% callback invoked %%\n",
      "                   ^^^^^^^^^^^^^^^^^^^^^^^^^^^^^^^\n",
      "  File \"C:\\Users\\skna1\\AppData\\Local\\Temp\\ipykernel_20212\\4117366607.py\", line 251, in Prediction\n",
      "    latlng = re.split(',',latlng)\n",
      "             ^^^^^^^^^^^^^^^^^^^^\n",
      "  File \"C:\\Users\\skna1\\AppData\\Local\\Programs\\Python\\Python311\\Lib\\re\\__init__.py\", line 206, in split\n",
      "    return _compile(pattern, flags).split(string, maxsplit)\n",
      "           ^^^^^^^^^^^^^^^^^^^^^^^^^^^^^^^^^^^^^^^^^^^^^^^^\n",
      "TypeError: expected string or bytes-like object, got 'NoneType'\n"
     ]
    },
    {
     "name": "stdout",
     "output_type": "stream",
     "text": [
      "1/1 [==============================] - 0s 57ms/step\n",
      "1/1 [==============================] - 0s 50ms/step\n"
     ]
    },
    {
     "name": "stderr",
     "output_type": "stream",
     "text": [
      "[2023-12-14 13:41:38,742] ERROR in app: Exception on /_dash-update-component [POST]\n",
      "Traceback (most recent call last):\n",
      "  File \"C:\\Users\\skna1\\AppData\\Local\\Programs\\Python\\Python311\\Lib\\site-packages\\pandas\\core\\indexes\\base.py\", line 3790, in get_loc\n",
      "    return self._engine.get_loc(casted_key)\n",
      "           ^^^^^^^^^^^^^^^^^^^^^^^^^^^^^^^^\n",
      "  File \"index.pyx\", line 152, in pandas._libs.index.IndexEngine.get_loc\n",
      "  File \"index.pyx\", line 181, in pandas._libs.index.IndexEngine.get_loc\n",
      "  File \"pandas\\_libs\\hashtable_class_helper.pxi\", line 2606, in pandas._libs.hashtable.Int64HashTable.get_item\n",
      "  File \"pandas\\_libs\\hashtable_class_helper.pxi\", line 2630, in pandas._libs.hashtable.Int64HashTable.get_item\n",
      "KeyError: 2\n",
      "\n",
      "The above exception was the direct cause of the following exception:\n",
      "\n",
      "Traceback (most recent call last):\n",
      "  File \"C:\\Users\\skna1\\AppData\\Local\\Programs\\Python\\Python311\\Lib\\site-packages\\flask\\app.py\", line 2190, in wsgi_app\n",
      "    response = self.full_dispatch_request()\n",
      "               ^^^^^^^^^^^^^^^^^^^^^^^^^^^^\n",
      "  File \"C:\\Users\\skna1\\AppData\\Local\\Programs\\Python\\Python311\\Lib\\site-packages\\flask\\app.py\", line 1486, in full_dispatch_request\n",
      "    rv = self.handle_user_exception(e)\n",
      "         ^^^^^^^^^^^^^^^^^^^^^^^^^^^^^\n",
      "  File \"C:\\Users\\skna1\\AppData\\Local\\Programs\\Python\\Python311\\Lib\\site-packages\\flask\\app.py\", line 1484, in full_dispatch_request\n",
      "    rv = self.dispatch_request()\n",
      "         ^^^^^^^^^^^^^^^^^^^^^^^\n",
      "  File \"C:\\Users\\skna1\\AppData\\Local\\Programs\\Python\\Python311\\Lib\\site-packages\\flask\\app.py\", line 1469, in dispatch_request\n",
      "    return self.ensure_sync(self.view_functions[rule.endpoint])(**view_args)\n",
      "           ^^^^^^^^^^^^^^^^^^^^^^^^^^^^^^^^^^^^^^^^^^^^^^^^^^^^^^^^^^^^^^^^^\n",
      "  File \"C:\\Users\\skna1\\AppData\\Local\\Programs\\Python\\Python311\\Lib\\site-packages\\dash\\dash.py\", line 1310, in dispatch\n",
      "    ctx.run(\n",
      "  File \"C:\\Users\\skna1\\AppData\\Local\\Programs\\Python\\Python311\\Lib\\site-packages\\dash\\_callback.py\", line 442, in add_context\n",
      "    output_value = func(*func_args, **func_kwargs)  # %% callback invoked %%\n",
      "                   ^^^^^^^^^^^^^^^^^^^^^^^^^^^^^^^\n",
      "  File \"C:\\Users\\skna1\\AppData\\Local\\Temp\\ipykernel_20212\\4117366607.py\", line 371, in Prediction\n",
      "    Cname1, Cname2, Cname3 = competitors['name'][0], competitors['name'][1], competitors['name'][2]\n",
      "                                                                             ~~~~~~~~~~~~~~~~~~~^^^\n",
      "  File \"C:\\Users\\skna1\\AppData\\Local\\Programs\\Python\\Python311\\Lib\\site-packages\\pandas\\core\\series.py\", line 1040, in __getitem__\n",
      "    return self._get_value(key)\n",
      "           ^^^^^^^^^^^^^^^^^^^^\n",
      "  File \"C:\\Users\\skna1\\AppData\\Local\\Programs\\Python\\Python311\\Lib\\site-packages\\pandas\\core\\series.py\", line 1156, in _get_value\n",
      "    loc = self.index.get_loc(label)\n",
      "          ^^^^^^^^^^^^^^^^^^^^^^^^^\n",
      "  File \"C:\\Users\\skna1\\AppData\\Local\\Programs\\Python\\Python311\\Lib\\site-packages\\pandas\\core\\indexes\\base.py\", line 3797, in get_loc\n",
      "    raise KeyError(key) from err\n",
      "KeyError: 2\n"
     ]
    },
    {
     "name": "stdout",
     "output_type": "stream",
     "text": [
      "1/1 [==============================] - 0s 60ms/step\n"
     ]
    },
    {
     "name": "stderr",
     "output_type": "stream",
     "text": [
      "[2023-12-14 13:41:45,378] ERROR in app: Exception on /_dash-update-component [POST]\n",
      "Traceback (most recent call last):\n",
      "  File \"C:\\Users\\skna1\\AppData\\Local\\Programs\\Python\\Python311\\Lib\\site-packages\\pandas\\core\\indexes\\base.py\", line 3790, in get_loc\n",
      "    return self._engine.get_loc(casted_key)\n",
      "           ^^^^^^^^^^^^^^^^^^^^^^^^^^^^^^^^\n",
      "  File \"index.pyx\", line 152, in pandas._libs.index.IndexEngine.get_loc\n",
      "  File \"index.pyx\", line 181, in pandas._libs.index.IndexEngine.get_loc\n",
      "  File \"pandas\\_libs\\hashtable_class_helper.pxi\", line 2606, in pandas._libs.hashtable.Int64HashTable.get_item\n",
      "  File \"pandas\\_libs\\hashtable_class_helper.pxi\", line 2630, in pandas._libs.hashtable.Int64HashTable.get_item\n",
      "KeyError: 1\n",
      "\n",
      "The above exception was the direct cause of the following exception:\n",
      "\n",
      "Traceback (most recent call last):\n",
      "  File \"C:\\Users\\skna1\\AppData\\Local\\Programs\\Python\\Python311\\Lib\\site-packages\\flask\\app.py\", line 2190, in wsgi_app\n",
      "    response = self.full_dispatch_request()\n",
      "               ^^^^^^^^^^^^^^^^^^^^^^^^^^^^\n",
      "  File \"C:\\Users\\skna1\\AppData\\Local\\Programs\\Python\\Python311\\Lib\\site-packages\\flask\\app.py\", line 1486, in full_dispatch_request\n",
      "    rv = self.handle_user_exception(e)\n",
      "         ^^^^^^^^^^^^^^^^^^^^^^^^^^^^^\n",
      "  File \"C:\\Users\\skna1\\AppData\\Local\\Programs\\Python\\Python311\\Lib\\site-packages\\flask\\app.py\", line 1484, in full_dispatch_request\n",
      "    rv = self.dispatch_request()\n",
      "         ^^^^^^^^^^^^^^^^^^^^^^^\n",
      "  File \"C:\\Users\\skna1\\AppData\\Local\\Programs\\Python\\Python311\\Lib\\site-packages\\flask\\app.py\", line 1469, in dispatch_request\n",
      "    return self.ensure_sync(self.view_functions[rule.endpoint])(**view_args)\n",
      "           ^^^^^^^^^^^^^^^^^^^^^^^^^^^^^^^^^^^^^^^^^^^^^^^^^^^^^^^^^^^^^^^^^\n",
      "  File \"C:\\Users\\skna1\\AppData\\Local\\Programs\\Python\\Python311\\Lib\\site-packages\\dash\\dash.py\", line 1310, in dispatch\n",
      "    ctx.run(\n",
      "  File \"C:\\Users\\skna1\\AppData\\Local\\Programs\\Python\\Python311\\Lib\\site-packages\\dash\\_callback.py\", line 442, in add_context\n",
      "    output_value = func(*func_args, **func_kwargs)  # %% callback invoked %%\n",
      "                   ^^^^^^^^^^^^^^^^^^^^^^^^^^^^^^^\n",
      "  File \"C:\\Users\\skna1\\AppData\\Local\\Temp\\ipykernel_20212\\4117366607.py\", line 371, in Prediction\n",
      "    Cname1, Cname2, Cname3 = competitors['name'][0], competitors['name'][1], competitors['name'][2]\n",
      "                                                     ~~~~~~~~~~~~~~~~~~~^^^\n",
      "  File \"C:\\Users\\skna1\\AppData\\Local\\Programs\\Python\\Python311\\Lib\\site-packages\\pandas\\core\\series.py\", line 1040, in __getitem__\n",
      "    return self._get_value(key)\n",
      "           ^^^^^^^^^^^^^^^^^^^^\n",
      "  File \"C:\\Users\\skna1\\AppData\\Local\\Programs\\Python\\Python311\\Lib\\site-packages\\pandas\\core\\series.py\", line 1156, in _get_value\n",
      "    loc = self.index.get_loc(label)\n",
      "          ^^^^^^^^^^^^^^^^^^^^^^^^^\n",
      "  File \"C:\\Users\\skna1\\AppData\\Local\\Programs\\Python\\Python311\\Lib\\site-packages\\pandas\\core\\indexes\\base.py\", line 3797, in get_loc\n",
      "    raise KeyError(key) from err\n",
      "KeyError: 1\n"
     ]
    },
    {
     "name": "stdout",
     "output_type": "stream",
     "text": [
      "1/1 [==============================] - 0s 54ms/step\n"
     ]
    },
    {
     "name": "stderr",
     "output_type": "stream",
     "text": [
      "[2023-12-14 13:41:49,240] ERROR in app: Exception on /_dash-update-component [POST]\n",
      "Traceback (most recent call last):\n",
      "  File \"C:\\Users\\skna1\\AppData\\Local\\Programs\\Python\\Python311\\Lib\\site-packages\\pandas\\core\\indexes\\base.py\", line 3790, in get_loc\n",
      "    return self._engine.get_loc(casted_key)\n",
      "           ^^^^^^^^^^^^^^^^^^^^^^^^^^^^^^^^\n",
      "  File \"index.pyx\", line 152, in pandas._libs.index.IndexEngine.get_loc\n",
      "  File \"index.pyx\", line 181, in pandas._libs.index.IndexEngine.get_loc\n",
      "  File \"pandas\\_libs\\hashtable_class_helper.pxi\", line 2606, in pandas._libs.hashtable.Int64HashTable.get_item\n",
      "  File \"pandas\\_libs\\hashtable_class_helper.pxi\", line 2630, in pandas._libs.hashtable.Int64HashTable.get_item\n",
      "KeyError: 1\n",
      "\n",
      "The above exception was the direct cause of the following exception:\n",
      "\n",
      "Traceback (most recent call last):\n",
      "  File \"C:\\Users\\skna1\\AppData\\Local\\Programs\\Python\\Python311\\Lib\\site-packages\\flask\\app.py\", line 2190, in wsgi_app\n",
      "    response = self.full_dispatch_request()\n",
      "               ^^^^^^^^^^^^^^^^^^^^^^^^^^^^\n",
      "  File \"C:\\Users\\skna1\\AppData\\Local\\Programs\\Python\\Python311\\Lib\\site-packages\\flask\\app.py\", line 1486, in full_dispatch_request\n",
      "    rv = self.handle_user_exception(e)\n",
      "         ^^^^^^^^^^^^^^^^^^^^^^^^^^^^^\n",
      "  File \"C:\\Users\\skna1\\AppData\\Local\\Programs\\Python\\Python311\\Lib\\site-packages\\flask\\app.py\", line 1484, in full_dispatch_request\n",
      "    rv = self.dispatch_request()\n",
      "         ^^^^^^^^^^^^^^^^^^^^^^^\n",
      "  File \"C:\\Users\\skna1\\AppData\\Local\\Programs\\Python\\Python311\\Lib\\site-packages\\flask\\app.py\", line 1469, in dispatch_request\n",
      "    return self.ensure_sync(self.view_functions[rule.endpoint])(**view_args)\n",
      "           ^^^^^^^^^^^^^^^^^^^^^^^^^^^^^^^^^^^^^^^^^^^^^^^^^^^^^^^^^^^^^^^^^\n",
      "  File \"C:\\Users\\skna1\\AppData\\Local\\Programs\\Python\\Python311\\Lib\\site-packages\\dash\\dash.py\", line 1310, in dispatch\n",
      "    ctx.run(\n",
      "  File \"C:\\Users\\skna1\\AppData\\Local\\Programs\\Python\\Python311\\Lib\\site-packages\\dash\\_callback.py\", line 442, in add_context\n",
      "    output_value = func(*func_args, **func_kwargs)  # %% callback invoked %%\n",
      "                   ^^^^^^^^^^^^^^^^^^^^^^^^^^^^^^^\n",
      "  File \"C:\\Users\\skna1\\AppData\\Local\\Temp\\ipykernel_20212\\4117366607.py\", line 371, in Prediction\n",
      "    Cname1, Cname2, Cname3 = competitors['name'][0], competitors['name'][1], competitors['name'][2]\n",
      "                                                     ~~~~~~~~~~~~~~~~~~~^^^\n",
      "  File \"C:\\Users\\skna1\\AppData\\Local\\Programs\\Python\\Python311\\Lib\\site-packages\\pandas\\core\\series.py\", line 1040, in __getitem__\n",
      "    return self._get_value(key)\n",
      "           ^^^^^^^^^^^^^^^^^^^^\n",
      "  File \"C:\\Users\\skna1\\AppData\\Local\\Programs\\Python\\Python311\\Lib\\site-packages\\pandas\\core\\series.py\", line 1156, in _get_value\n",
      "    loc = self.index.get_loc(label)\n",
      "          ^^^^^^^^^^^^^^^^^^^^^^^^^\n",
      "  File \"C:\\Users\\skna1\\AppData\\Local\\Programs\\Python\\Python311\\Lib\\site-packages\\pandas\\core\\indexes\\base.py\", line 3797, in get_loc\n",
      "    raise KeyError(key) from err\n",
      "KeyError: 1\n"
     ]
    },
    {
     "name": "stdout",
     "output_type": "stream",
     "text": [
      "1/1 [==============================] - 0s 50ms/step\n"
     ]
    },
    {
     "name": "stderr",
     "output_type": "stream",
     "text": [
      "[2023-12-14 13:42:40,316] ERROR in app: Exception on /_dash-update-component [POST]\n",
      "Traceback (most recent call last):\n",
      "  File \"C:\\Users\\skna1\\AppData\\Local\\Programs\\Python\\Python311\\Lib\\site-packages\\flask\\app.py\", line 2190, in wsgi_app\n",
      "    response = self.full_dispatch_request()\n",
      "               ^^^^^^^^^^^^^^^^^^^^^^^^^^^^\n",
      "  File \"C:\\Users\\skna1\\AppData\\Local\\Programs\\Python\\Python311\\Lib\\site-packages\\flask\\app.py\", line 1486, in full_dispatch_request\n",
      "    rv = self.handle_user_exception(e)\n",
      "         ^^^^^^^^^^^^^^^^^^^^^^^^^^^^^\n",
      "  File \"C:\\Users\\skna1\\AppData\\Local\\Programs\\Python\\Python311\\Lib\\site-packages\\flask\\app.py\", line 1484, in full_dispatch_request\n",
      "    rv = self.dispatch_request()\n",
      "         ^^^^^^^^^^^^^^^^^^^^^^^\n",
      "  File \"C:\\Users\\skna1\\AppData\\Local\\Programs\\Python\\Python311\\Lib\\site-packages\\flask\\app.py\", line 1469, in dispatch_request\n",
      "    return self.ensure_sync(self.view_functions[rule.endpoint])(**view_args)\n",
      "           ^^^^^^^^^^^^^^^^^^^^^^^^^^^^^^^^^^^^^^^^^^^^^^^^^^^^^^^^^^^^^^^^^\n",
      "  File \"C:\\Users\\skna1\\AppData\\Local\\Programs\\Python\\Python311\\Lib\\site-packages\\dash\\dash.py\", line 1310, in dispatch\n",
      "    ctx.run(\n",
      "  File \"C:\\Users\\skna1\\AppData\\Local\\Programs\\Python\\Python311\\Lib\\site-packages\\dash\\_callback.py\", line 442, in add_context\n",
      "    output_value = func(*func_args, **func_kwargs)  # %% callback invoked %%\n",
      "                   ^^^^^^^^^^^^^^^^^^^^^^^^^^^^^^^\n",
      "  File \"C:\\Users\\skna1\\AppData\\Local\\Temp\\ipykernel_20212\\4117366607.py\", line 251, in Prediction\n",
      "    latlng = re.split(',',latlng)\n",
      "             ^^^^^^^^^^^^^^^^^^^^\n",
      "  File \"C:\\Users\\skna1\\AppData\\Local\\Programs\\Python\\Python311\\Lib\\re\\__init__.py\", line 206, in split\n",
      "    return _compile(pattern, flags).split(string, maxsplit)\n",
      "           ^^^^^^^^^^^^^^^^^^^^^^^^^^^^^^^^^^^^^^^^^^^^^^^^\n",
      "TypeError: expected string or bytes-like object, got 'NoneType'\n",
      "[2023-12-14 13:42:41,616] ERROR in app: Exception on /_dash-update-component [POST]\n",
      "Traceback (most recent call last):\n",
      "  File \"C:\\Users\\skna1\\AppData\\Local\\Programs\\Python\\Python311\\Lib\\site-packages\\flask\\app.py\", line 2190, in wsgi_app\n",
      "    response = self.full_dispatch_request()\n",
      "               ^^^^^^^^^^^^^^^^^^^^^^^^^^^^\n",
      "  File \"C:\\Users\\skna1\\AppData\\Local\\Programs\\Python\\Python311\\Lib\\site-packages\\flask\\app.py\", line 1486, in full_dispatch_request\n",
      "    rv = self.handle_user_exception(e)\n",
      "         ^^^^^^^^^^^^^^^^^^^^^^^^^^^^^\n",
      "  File \"C:\\Users\\skna1\\AppData\\Local\\Programs\\Python\\Python311\\Lib\\site-packages\\flask\\app.py\", line 1484, in full_dispatch_request\n",
      "    rv = self.dispatch_request()\n",
      "         ^^^^^^^^^^^^^^^^^^^^^^^\n",
      "  File \"C:\\Users\\skna1\\AppData\\Local\\Programs\\Python\\Python311\\Lib\\site-packages\\flask\\app.py\", line 1469, in dispatch_request\n",
      "    return self.ensure_sync(self.view_functions[rule.endpoint])(**view_args)\n",
      "           ^^^^^^^^^^^^^^^^^^^^^^^^^^^^^^^^^^^^^^^^^^^^^^^^^^^^^^^^^^^^^^^^^\n",
      "  File \"C:\\Users\\skna1\\AppData\\Local\\Programs\\Python\\Python311\\Lib\\site-packages\\dash\\dash.py\", line 1310, in dispatch\n",
      "    ctx.run(\n",
      "  File \"C:\\Users\\skna1\\AppData\\Local\\Programs\\Python\\Python311\\Lib\\site-packages\\dash\\_callback.py\", line 442, in add_context\n",
      "    output_value = func(*func_args, **func_kwargs)  # %% callback invoked %%\n",
      "                   ^^^^^^^^^^^^^^^^^^^^^^^^^^^^^^^\n",
      "  File \"C:\\Users\\skna1\\AppData\\Local\\Temp\\ipykernel_20212\\4117366607.py\", line 251, in Prediction\n",
      "    latlng = re.split(',',latlng)\n",
      "             ^^^^^^^^^^^^^^^^^^^^\n",
      "  File \"C:\\Users\\skna1\\AppData\\Local\\Programs\\Python\\Python311\\Lib\\re\\__init__.py\", line 206, in split\n",
      "    return _compile(pattern, flags).split(string, maxsplit)\n",
      "           ^^^^^^^^^^^^^^^^^^^^^^^^^^^^^^^^^^^^^^^^^^^^^^^^\n",
      "TypeError: expected string or bytes-like object, got 'NoneType'\n",
      "[2023-12-14 13:42:43,703] ERROR in app: Exception on /_dash-update-component [POST]\n",
      "Traceback (most recent call last):\n",
      "  File \"C:\\Users\\skna1\\AppData\\Local\\Programs\\Python\\Python311\\Lib\\site-packages\\flask\\app.py\", line 2190, in wsgi_app\n",
      "    response = self.full_dispatch_request()\n",
      "               ^^^^^^^^^^^^^^^^^^^^^^^^^^^^\n",
      "  File \"C:\\Users\\skna1\\AppData\\Local\\Programs\\Python\\Python311\\Lib\\site-packages\\flask\\app.py\", line 1486, in full_dispatch_request\n",
      "    rv = self.handle_user_exception(e)\n",
      "         ^^^^^^^^^^^^^^^^^^^^^^^^^^^^^\n",
      "  File \"C:\\Users\\skna1\\AppData\\Local\\Programs\\Python\\Python311\\Lib\\site-packages\\flask\\app.py\", line 1484, in full_dispatch_request\n",
      "    rv = self.dispatch_request()\n",
      "         ^^^^^^^^^^^^^^^^^^^^^^^\n",
      "  File \"C:\\Users\\skna1\\AppData\\Local\\Programs\\Python\\Python311\\Lib\\site-packages\\flask\\app.py\", line 1469, in dispatch_request\n",
      "    return self.ensure_sync(self.view_functions[rule.endpoint])(**view_args)\n",
      "           ^^^^^^^^^^^^^^^^^^^^^^^^^^^^^^^^^^^^^^^^^^^^^^^^^^^^^^^^^^^^^^^^^\n",
      "  File \"C:\\Users\\skna1\\AppData\\Local\\Programs\\Python\\Python311\\Lib\\site-packages\\dash\\dash.py\", line 1310, in dispatch\n",
      "    ctx.run(\n",
      "  File \"C:\\Users\\skna1\\AppData\\Local\\Programs\\Python\\Python311\\Lib\\site-packages\\dash\\_callback.py\", line 442, in add_context\n",
      "    output_value = func(*func_args, **func_kwargs)  # %% callback invoked %%\n",
      "                   ^^^^^^^^^^^^^^^^^^^^^^^^^^^^^^^\n",
      "  File \"C:\\Users\\skna1\\AppData\\Local\\Temp\\ipykernel_20212\\4117366607.py\", line 251, in Prediction\n",
      "    latlng = re.split(',',latlng)\n",
      "             ^^^^^^^^^^^^^^^^^^^^\n",
      "  File \"C:\\Users\\skna1\\AppData\\Local\\Programs\\Python\\Python311\\Lib\\re\\__init__.py\", line 206, in split\n",
      "    return _compile(pattern, flags).split(string, maxsplit)\n",
      "           ^^^^^^^^^^^^^^^^^^^^^^^^^^^^^^^^^^^^^^^^^^^^^^^^\n",
      "TypeError: expected string or bytes-like object, got 'NoneType'\n",
      "[2023-12-14 13:42:47,189] ERROR in app: Exception on /_dash-update-component [POST]\n",
      "Traceback (most recent call last):\n",
      "  File \"C:\\Users\\skna1\\AppData\\Local\\Programs\\Python\\Python311\\Lib\\site-packages\\flask\\app.py\", line 2190, in wsgi_app\n",
      "    response = self.full_dispatch_request()\n",
      "               ^^^^^^^^^^^^^^^^^^^^^^^^^^^^\n",
      "  File \"C:\\Users\\skna1\\AppData\\Local\\Programs\\Python\\Python311\\Lib\\site-packages\\flask\\app.py\", line 1486, in full_dispatch_request\n",
      "    rv = self.handle_user_exception(e)\n",
      "         ^^^^^^^^^^^^^^^^^^^^^^^^^^^^^\n",
      "  File \"C:\\Users\\skna1\\AppData\\Local\\Programs\\Python\\Python311\\Lib\\site-packages\\flask\\app.py\", line 1484, in full_dispatch_request\n",
      "    rv = self.dispatch_request()\n",
      "         ^^^^^^^^^^^^^^^^^^^^^^^\n",
      "  File \"C:\\Users\\skna1\\AppData\\Local\\Programs\\Python\\Python311\\Lib\\site-packages\\flask\\app.py\", line 1469, in dispatch_request\n",
      "    return self.ensure_sync(self.view_functions[rule.endpoint])(**view_args)\n",
      "           ^^^^^^^^^^^^^^^^^^^^^^^^^^^^^^^^^^^^^^^^^^^^^^^^^^^^^^^^^^^^^^^^^\n",
      "  File \"C:\\Users\\skna1\\AppData\\Local\\Programs\\Python\\Python311\\Lib\\site-packages\\dash\\dash.py\", line 1310, in dispatch\n",
      "    ctx.run(\n",
      "  File \"C:\\Users\\skna1\\AppData\\Local\\Programs\\Python\\Python311\\Lib\\site-packages\\dash\\_callback.py\", line 442, in add_context\n",
      "    output_value = func(*func_args, **func_kwargs)  # %% callback invoked %%\n",
      "                   ^^^^^^^^^^^^^^^^^^^^^^^^^^^^^^^\n",
      "  File \"C:\\Users\\skna1\\AppData\\Local\\Temp\\ipykernel_20212\\4117366607.py\", line 251, in Prediction\n",
      "    latlng = re.split(',',latlng)\n",
      "             ^^^^^^^^^^^^^^^^^^^^\n",
      "  File \"C:\\Users\\skna1\\AppData\\Local\\Programs\\Python\\Python311\\Lib\\re\\__init__.py\", line 206, in split\n",
      "    return _compile(pattern, flags).split(string, maxsplit)\n",
      "           ^^^^^^^^^^^^^^^^^^^^^^^^^^^^^^^^^^^^^^^^^^^^^^^^\n",
      "TypeError: expected string or bytes-like object, got 'NoneType'\n",
      "[2023-12-14 13:43:02,337] ERROR in app: Exception on /_dash-update-component [POST]\n",
      "Traceback (most recent call last):\n",
      "  File \"C:\\Users\\skna1\\AppData\\Local\\Programs\\Python\\Python311\\Lib\\site-packages\\flask\\app.py\", line 2190, in wsgi_app\n",
      "    response = self.full_dispatch_request()\n",
      "               ^^^^^^^^^^^^^^^^^^^^^^^^^^^^\n",
      "  File \"C:\\Users\\skna1\\AppData\\Local\\Programs\\Python\\Python311\\Lib\\site-packages\\flask\\app.py\", line 1486, in full_dispatch_request\n",
      "    rv = self.handle_user_exception(e)\n",
      "         ^^^^^^^^^^^^^^^^^^^^^^^^^^^^^\n",
      "  File \"C:\\Users\\skna1\\AppData\\Local\\Programs\\Python\\Python311\\Lib\\site-packages\\flask\\app.py\", line 1484, in full_dispatch_request\n",
      "    rv = self.dispatch_request()\n",
      "         ^^^^^^^^^^^^^^^^^^^^^^^\n",
      "  File \"C:\\Users\\skna1\\AppData\\Local\\Programs\\Python\\Python311\\Lib\\site-packages\\flask\\app.py\", line 1469, in dispatch_request\n",
      "    return self.ensure_sync(self.view_functions[rule.endpoint])(**view_args)\n",
      "           ^^^^^^^^^^^^^^^^^^^^^^^^^^^^^^^^^^^^^^^^^^^^^^^^^^^^^^^^^^^^^^^^^\n",
      "  File \"C:\\Users\\skna1\\AppData\\Local\\Programs\\Python\\Python311\\Lib\\site-packages\\dash\\dash.py\", line 1310, in dispatch\n",
      "    ctx.run(\n",
      "  File \"C:\\Users\\skna1\\AppData\\Local\\Programs\\Python\\Python311\\Lib\\site-packages\\dash\\_callback.py\", line 442, in add_context\n",
      "    output_value = func(*func_args, **func_kwargs)  # %% callback invoked %%\n",
      "                   ^^^^^^^^^^^^^^^^^^^^^^^^^^^^^^^\n",
      "  File \"C:\\Users\\skna1\\AppData\\Local\\Temp\\ipykernel_20212\\4117366607.py\", line 251, in Prediction\n",
      "    latlng = re.split(',',latlng)\n",
      "             ^^^^^^^^^^^^^^^^^^^^\n",
      "  File \"C:\\Users\\skna1\\AppData\\Local\\Programs\\Python\\Python311\\Lib\\re\\__init__.py\", line 206, in split\n",
      "    return _compile(pattern, flags).split(string, maxsplit)\n",
      "           ^^^^^^^^^^^^^^^^^^^^^^^^^^^^^^^^^^^^^^^^^^^^^^^^\n",
      "TypeError: expected string or bytes-like object, got 'NoneType'\n",
      "[2023-12-14 13:43:22,032] ERROR in app: Exception on /_dash-update-component [POST]\n",
      "Traceback (most recent call last):\n",
      "  File \"C:\\Users\\skna1\\AppData\\Local\\Programs\\Python\\Python311\\Lib\\site-packages\\flask\\app.py\", line 2190, in wsgi_app\n",
      "    response = self.full_dispatch_request()\n",
      "               ^^^^^^^^^^^^^^^^^^^^^^^^^^^^\n",
      "  File \"C:\\Users\\skna1\\AppData\\Local\\Programs\\Python\\Python311\\Lib\\site-packages\\flask\\app.py\", line 1486, in full_dispatch_request\n",
      "    rv = self.handle_user_exception(e)\n",
      "         ^^^^^^^^^^^^^^^^^^^^^^^^^^^^^\n",
      "  File \"C:\\Users\\skna1\\AppData\\Local\\Programs\\Python\\Python311\\Lib\\site-packages\\flask\\app.py\", line 1484, in full_dispatch_request\n",
      "    rv = self.dispatch_request()\n",
      "         ^^^^^^^^^^^^^^^^^^^^^^^\n",
      "  File \"C:\\Users\\skna1\\AppData\\Local\\Programs\\Python\\Python311\\Lib\\site-packages\\flask\\app.py\", line 1469, in dispatch_request\n",
      "    return self.ensure_sync(self.view_functions[rule.endpoint])(**view_args)\n",
      "           ^^^^^^^^^^^^^^^^^^^^^^^^^^^^^^^^^^^^^^^^^^^^^^^^^^^^^^^^^^^^^^^^^\n",
      "  File \"C:\\Users\\skna1\\AppData\\Local\\Programs\\Python\\Python311\\Lib\\site-packages\\dash\\dash.py\", line 1310, in dispatch\n",
      "    ctx.run(\n",
      "  File \"C:\\Users\\skna1\\AppData\\Local\\Programs\\Python\\Python311\\Lib\\site-packages\\dash\\_callback.py\", line 442, in add_context\n",
      "    output_value = func(*func_args, **func_kwargs)  # %% callback invoked %%\n",
      "                   ^^^^^^^^^^^^^^^^^^^^^^^^^^^^^^^\n",
      "  File \"C:\\Users\\skna1\\AppData\\Local\\Temp\\ipykernel_20212\\4117366607.py\", line 251, in Prediction\n",
      "    latlng = re.split(',',latlng)\n",
      "             ^^^^^^^^^^^^^^^^^^^^\n",
      "  File \"C:\\Users\\skna1\\AppData\\Local\\Programs\\Python\\Python311\\Lib\\re\\__init__.py\", line 206, in split\n",
      "    return _compile(pattern, flags).split(string, maxsplit)\n",
      "           ^^^^^^^^^^^^^^^^^^^^^^^^^^^^^^^^^^^^^^^^^^^^^^^^\n",
      "TypeError: expected string or bytes-like object, got 'NoneType'\n"
     ]
    }
   ],
   "source": [
    "#map config\n",
    "url = 'https://tiles.stadiamaps.com/tiles/alidade_smooth_dark/{z}/{x}/{y}{r}.png'\n",
    "attribution = '&copy; <a href=\"https://stadiamaps.com/\">Stadia Maps</a> '\n",
    "\n",
    "eventHandlers = dict(\n",
    "    click=assign(\"function(e, ctx){ctx.setProps({data: e.latlng.lat +','+ e.latlng.lng})}\")\n",
    ")\n",
    "\n",
    "app = Dash(\n",
    "    __name__,\n",
    "    external_stylesheets = [dbc.themes.LUX, dbc.themes.SPACELAB, dbc.icons.BOOTSTRAP, dbc.themes.BOOTSTRAP])\n",
    "\n",
    "app.layout = html.Div([\n",
    "        #map\n",
    "    dbc.Row([\n",
    "        dl.Map(children=[dl.TileLayer(url=url, maxZoom=20, attribution=attribution)], eventHandlers=eventHandlers,\n",
    "            style={'height': '50vh'}, center=[24.616981, 46.731747], zoom=11.5, id='map'),  \n",
    "    ]),\n",
    "    ##end of map col \n",
    "######################################\n",
    "    #start of Col1\n",
    "    dbc.Row([\n",
    "        dbc.Card(\n",
    "            dbc.CardBody([\n",
    "                dbc.Row([\n",
    "                dbc.Col([\n",
    "                    dbc.Card([\n",
    "                        dbc.CardBody([\n",
    "                            dbc.Row([\n",
    "                                dbc.Col([\n",
    "                                    dbc.Card([\n",
    "                                        dbc.CardBody([html.H1('Choose a Location To display Data', \n",
    "                                        id='Prediction',style= Style)])\n",
    "                                ]),\n",
    "                                ], width=12),\n",
    "                        ], align='center'), \n",
    "                        html.Br(),\n",
    "                            \n",
    "                        dbc.Row([\n",
    "                            dbc.Col([\n",
    "                                dbc.Card([\n",
    "                                    dbc.CardHeader(\"Amount of Competitors\"),\n",
    "                                    dbc.CardBody([html.H5(id='Competitors',style= Text_Style)]),\n",
    "                                ]),\n",
    "                            ], width=6),\n",
    "                            dbc.Col([\n",
    "                                dbc.Card([\n",
    "                                    dbc.CardHeader(\"Number of Officces Nearby\"),\n",
    "                                    dbc.CardBody([html.H5(id='BusiNum',style= Text_Style)]),\n",
    "                                ]),\n",
    "                            ], width=6),\n",
    "                        ], align='center'), \n",
    "                        html.Br(),\n",
    "                            \n",
    "                        dbc.Row([\n",
    "                            dbc.Col([\n",
    "                                dbc.Card([\n",
    "                                    dbc.CardHeader(\"Number of Hotels Nearby\"),\n",
    "                                    dbc.CardBody([html.H5(id='Hotels',style= Text_Style)]),\n",
    "                                ]),\n",
    "                            ], width=6),\n",
    "                            dbc.Col([\n",
    "                                dbc.Card([\n",
    "                                    dbc.CardHeader(\"Number of Parks Nearby\"),\n",
    "                                    dbc.CardBody([html.H5(id='Parks',style= Text_Style)]),\n",
    "                                ]),\n",
    "                            ], width=6),\n",
    "                        ], align='center'), \n",
    "                        html.Br(),\n",
    "                        \n",
    "                        dbc.Row([\n",
    "                            dbc.Col([\n",
    "                                 dbc.Card([\n",
    "                                    dbc.CardHeader(\"Avarage Rent in this Area\"),\n",
    "                                    dbc.CardBody([html.H5(id='Rent',style= Text_Style)]),\n",
    "                                    ]),\n",
    "                                ], width=12),\n",
    "                            ], align='center'), \n",
    "                            \n",
    "                            \n",
    "                        ])])\n",
    "                ], width=5),\n",
    "                #html.Br(),\n",
    "                \n",
    "                #Graphs here \n",
    "                dbc.Col([\n",
    "                    dbc.Card(\n",
    "                        dbc.CardBody([\n",
    "                            dbc.Row([\n",
    "                                dbc.Col([\n",
    "                                    dcc.Graph(id='AgeGroupchart', figure = agegroup)\n",
    "                                ]),\n",
    "                                dbc.Col([\n",
    "                                    dcc.Graph(id='GenderGroupchart', figure = GenderGroup)\n",
    "                                ]),\n",
    "                            ],style={'height': '70vh'}),\n",
    "                        ]))\n",
    "                ], width=7), \n",
    "            ]),\n",
    "        ])\n",
    "    ),\n",
    "        ####\n",
    "    ], align='center'),\n",
    "    #End of profile Col \n",
    "\n",
    "#comp Row \n",
    "    dbc.Row([\n",
    "        dbc.Card([\n",
    "            dbc.CardBody([\n",
    "                html.H1('Competitors Profile',style= Style),\n",
    "                html.H1(id='CompTitle',style= Style),\n",
    "            ])\n",
    "        ]),\n",
    "        dbc.Card(\n",
    "                dbc.CardBody([\n",
    "                    dbc.Col([\n",
    "                       dbc.Row([\n",
    "                           dbc.Col([\n",
    "                               dbc.Row([\n",
    "                                   dbc.Card([\n",
    "                                        dbc.CardHeader(\"Name\"),\n",
    "                                        dbc.CardBody([html.H5(id='name1',style= Text_Style)]),\n",
    "                                    ]),\n",
    "                               ]),\n",
    "                               dbc.Row([\n",
    "                                   dbc.Card([\n",
    "                                        dbc.CardHeader(\"Type\"),\n",
    "                                        dbc.CardBody([html.H5(id='type1',style= Text_Style)]),\n",
    "                                    ]),\n",
    "                               ]),\n",
    "                               dbc.Row([\n",
    "                                   dbc.Card([\n",
    "                                        dbc.CardHeader(\"Neighbhood\"),\n",
    "                                        dbc.CardBody([html.H5(id='neig1',style= Text_Style)]),\n",
    "                                    ]),\n",
    "                               ]), \n",
    "                           ],width=5),\n",
    "                           dbc.Col([\n",
    "                               dcc.Graph(id='chart1', figure = graph1),\n",
    "                           ],width=7),\n",
    "                       ]),\n",
    "                    ]),  \n",
    "            ]),\n",
    "        ),\n",
    "        dbc.Card(\n",
    "                dbc.CardBody([\n",
    "                    dbc.Col([\n",
    "                       dbc.Row([\n",
    "                           dbc.Col([\n",
    "                               dbc.Row([\n",
    "                                   dbc.Card([\n",
    "                                        dbc.CardHeader(\"Name\"),\n",
    "                                        dbc.CardBody([html.H5(id='name2',style= Text_Style)]),\n",
    "                                    ]),\n",
    "                               ]),\n",
    "                               html.Br(),\n",
    "                               dbc.Row([\n",
    "                                   dbc.Card([\n",
    "                                        dbc.CardHeader(\"Type\"),\n",
    "                                        dbc.CardBody([html.H5(id='type2',style= Text_Style)]),\n",
    "                                    ]),\n",
    "                               ]),\n",
    "                               html.Br(),\n",
    "                               dbc.Row([\n",
    "                                   dbc.Card([\n",
    "                                        dbc.CardHeader(\"Neighbhood\"),\n",
    "                                        dbc.CardBody([html.H5(id='neig2',style= Text_Style)]),\n",
    "                                    ]),\n",
    "                               ]),\n",
    "                               html.Br(),\n",
    "                           ],width=5),\n",
    "                           dbc.Col([\n",
    "                               dcc.Graph(id='chart2', figure = graph2),\n",
    "                           ],width=7),\n",
    "                       ]),\n",
    "                    ]),\n",
    "                ]),\n",
    "        ),\n",
    "        dbc.Card(\n",
    "            dbc.CardBody([\n",
    "                dbc.Col([\n",
    "                   dbc.Row([\n",
    "                       dbc.Col([\n",
    "                            dbc.Card(\n",
    "                                dbc.CardBody([\n",
    "                                       dbc.Row([\n",
    "                                           dbc.Card([\n",
    "                                                dbc.CardHeader(\"Name\"),\n",
    "                                                dbc.CardBody([html.H5(id='name3',style= Text_Style)]),\n",
    "                                            ]),\n",
    "                                       ]),\n",
    "                                       dbc.Row([\n",
    "                                           dbc.Card([\n",
    "                                                dbc.CardHeader(\"Type\"),\n",
    "                                                dbc.CardBody([html.H5(id='type3',style= Text_Style)]),\n",
    "                                            ]),\n",
    "                                       ]),\n",
    "                                       dbc.Row([\n",
    "                                           dbc.Card([\n",
    "                                                dbc.CardHeader(\"Neighbhood\"),\n",
    "                                                dbc.CardBody([html.H5(id='neig3',style= Text_Style)]),\n",
    "                                            ]),\n",
    "                                       ]),\n",
    "                                   ]),\n",
    "                               ),\n",
    "                       ],width=5),\n",
    "                       dbc.Col([\n",
    "                           dcc.Graph(id='chart3', figure = graph3),\n",
    "                       ],width=7),\n",
    "                   ]),\n",
    "                ]), \n",
    "            ]),\n",
    "        )\n",
    "        \n",
    "    ], align='center')\n",
    "\n",
    "],style={'background-color': '#E0EAF2', 'padding': '10px'})\n",
    "\n",
    "###Call \n",
    "@app.callback(\n",
    "    Output(\"map\", \"children\"),\n",
    "    Output(\"Prediction\", \"children\"),\n",
    "    Output(\"Competitors\", \"children\"),\n",
    "    Output(\"BusiNum\", \"children\"),\n",
    "    Output(\"Hotels\", \"children\"),\n",
    "    Output(\"Parks\", \"children\"),\n",
    "    Output(\"Rent\", \"children\"),\n",
    "    Output(\"AgeGroupchart\", \"figure\"),\n",
    "    Output(\"GenderGroupchart\", \"figure\"),\n",
    "    Output(\"CompTitle\", \"children\"),\n",
    "    \n",
    "    Output(\"name1\", \"children\"),\n",
    "    Output(\"type1\", \"children\"),\n",
    "    Output(\"neig1\", \"children\"),\n",
    "    Output(\"chart1\", \"figure\"),\n",
    "    \n",
    "    Output(\"name2\", \"children\"),\n",
    "    Output(\"type2\", \"children\"),\n",
    "    Output(\"neig2\", \"children\"),\n",
    "    Output(\"chart2\", \"figure\"),\n",
    "    \n",
    "    Output(\"name3\", \"children\"),\n",
    "    Output(\"type3\", \"children\"),\n",
    "    Output(\"neig3\", \"children\"),\n",
    "    Output(\"chart3\", \"figure\"),\n",
    "    \n",
    "    Input(\"map\", \"data\"),\n",
    ")\n",
    "\n",
    "def Prediction(latlng):\n",
    "    latlng = re.split(',',latlng)\n",
    "    lat = float(latlng[0])\n",
    "    lng = float(latlng[1])\n",
    "\n",
    "    mapR = Updatemap(lat, lng)\n",
    "    \n",
    "    #get ['FemalePop','MalePop','neighbhood_id'] using RiyadhPop Dataset\n",
    "    df = RiyadhPop[(lat <= RiyadhPop['lat_max']) & (lat >= RiyadhPop['lat_min']) &\n",
    "                    (lng <= RiyadhPop['lng_max']) &(lng >= RiyadhPop['lng_min'])]\n",
    "    \n",
    "    df.reset_index(drop=True, inplace=True)\n",
    "    \n",
    "    FemalePop = int((df['FemaleNonSaudi'].sum() + df['FemaleSaudi'].sum())/ (len(df)*2))\n",
    "    MalePop = int((df['MaleNonSaudi'].sum() + df['MaleSaudi'].sum())/ (len(df)*2))\n",
    "\n",
    "    \n",
    "    #Get ['officeNum', 'HotelNum', 'companieNum', 'CompNum'] using Shops Dataset\n",
    "    maxlat = lat + 0.01500\n",
    "    minlat = lat - 0.01500\n",
    "    maxlng = lng + 0.01500\n",
    "    minlng = lng - 0.01500\n",
    "    \n",
    "    df = shops[(shops['lat'] <= maxlat) & (shops['lat'] >= minlat) & (shops['lng'] <= maxlng) & (shops['lng'] >= minlng)]\n",
    "    df.reset_index(drop=True, inplace=True)\n",
    "\n",
    "    R = []\n",
    "    for i in range(len(df)):\n",
    "        r = abs(lat - df['lat'][i]) + abs(lng - df['lng'][i])\n",
    "        R.append(r)\n",
    "\n",
    "    index = np.argmax(R)\n",
    "    neighbhoodName= df['neighbhood'][index]\n",
    "\n",
    "    officeNum = 0\n",
    "    try:\n",
    "        officeNum = int(df['officeNum'].sum()/ len(df))\n",
    "    except: \n",
    "        pass\n",
    "        \n",
    "    HotelNum = 0\n",
    "    try:\n",
    "        HotelNum = int(df['HotelNum'].sum()/ len(df))\n",
    "    except:\n",
    "        pass\n",
    "\n",
    "    companieNum = 0\n",
    "    try:\n",
    "        companieNum = int(df['companieNum'].sum()/ len(df))\n",
    "    except:\n",
    "        pass\n",
    "\n",
    "    schoolNum = 0 \n",
    "    try:\n",
    "        schoolNum = int(df['schoolNum'].sum()/ len(df))\n",
    "    except:\n",
    "        pass\n",
    "\n",
    "    parksNum = 0\n",
    "    try:\n",
    "        parksNum = int(df['parksNum'].sum()/ len(df))\n",
    "    except:\n",
    "        pass\n",
    "        \n",
    "    CompNum = 0\n",
    "    try: \n",
    "        df = df[df['isSuccessful'] == 1]\n",
    "        competitors = df.copy()\n",
    "        CompNum = len(df)\n",
    "    except:\n",
    "        pass\n",
    "\n",
    "    #predict succ \n",
    "    myData = scaler.transform([[lat,lng, schoolNum, parksNum, officeNum, HotelNum, companieNum, CompNum]])\n",
    "    Succ = DNN.predict(myData)\n",
    "    Succ = int(Succ[0][0] * 100)\n",
    "\n",
    "    #Get Avg Rent Prices in loc \n",
    "    df = rent[(rent['location.lat'] <= maxlat) & (rent['location.lat'] >= minlat) & (rent['location.lng'] <= maxlng) & (rent['location.lng'] >= minlng)]\n",
    "    df.reset_index(drop=True, inplace=True)\n",
    "\n",
    "    AVGRent = ''\n",
    "    try:\n",
    "        AVGRent = int(df['price'].sum()/ len(df))\n",
    "    except:\n",
    "        AVGRent = 'Sorry No Data Found'\n",
    "\n",
    "    busi = companieNum + officeNum\n",
    "    predic = str('The Success of '+neighbhoodName+ ' Location is ' + str(Succ)+'%')\n",
    "\n",
    "    Teens = int((FemalePop+MalePop)* (AgeGroup['ratio'][0]/100))\n",
    "    G20s = int((FemalePop+MalePop)* (AgeGroup['ratio'][1]/100))\t\n",
    "    G30s = int((FemalePop+MalePop)* (AgeGroup['ratio'][2]/100))\n",
    "    G40s = int((FemalePop+MalePop)* (AgeGroup['ratio'][3]/100))\t\n",
    "    G50s = int((FemalePop+MalePop)* (AgeGroup['ratio'][4]/100))\t\n",
    "    G60s = int((FemalePop+MalePop)* (AgeGroup['ratio'][5]/100))\n",
    "\n",
    "    sum = Teens+ G20s + G30s + G40s + G50s + G60s\n",
    "    y = [Teens, G20s, G30s, G40s, G50s, G60s]\n",
    "    p = []\n",
    "    for i in y:\n",
    "        prec = (i/sum)*100\n",
    "        prec = round(prec, 1)\n",
    "        prec = str(prec)+'%'\n",
    "        p.append(prec)\n",
    "\n",
    "    agegroup = UpdateAgegroup(y,p)\n",
    "    GenderGroup = UpdateGendergroup([FemalePop, MalePop])\n",
    "    AVGRent = str(AVGRent)+' SR'\n",
    "\n",
    "    ##comp Profile \n",
    "    Cname1, Cname2, Cname3 = '', '', ''\n",
    "    Cneig1, Cneig2, Cneig3 = '', '', ''\n",
    "    Ctype1, Ctype2, Ctype3 = '', '', ''\n",
    "    Cchart1, Cchart2, Cchart3 = graph1, graph2, graph3\n",
    "    title = '' \n",
    "    \n",
    "    if len(competitors)>2:\n",
    "        title = 'Information About Top 3 Competitors'\n",
    "        competitors = competitors.sort_values(by=['user_ratings_total'], ascending=False)\n",
    "        df.reset_index(drop=True, inplace=True)\n",
    "        Cname1, Cname2, Cname3 = competitors['name'][0], competitors['name'][1], competitors['name'][2]\n",
    "        Cneig1, Cneig2, Cneig3 = competitors['neighbhood'][0], competitors['neighbhood'][1], competitors['neighbhood'][2]\n",
    "        Ctype1, Ctype2, Ctype3 = competitors['types'][0], competitors['types'][1], competitors['types'][2]\n",
    "        \n",
    "        Cchart1 = ratingGraphs([competitors['rated1'][0], competitors['rated2'][0],\n",
    "                               competitors['rated3'][0], competitors['rated4'][0], competitors['rated5'][0]])  \n",
    "        \n",
    "        Cchart2 = ratingGraphs([competitors['rated1'][1], competitors['rated2'][1],\n",
    "                               competitors['rated3'][1], competitors['rated4'][1], competitors['rated5'][1]]) \n",
    "        \n",
    "        Cchart3 = ratingGraphs([competitors['rated1'][2], competitors['rated2'][2],\n",
    "                               competitors['rated3'][2], competitors['rated4'][2], competitors['rated5'][2]])\n",
    "        \n",
    "    elif len(competitors)>1:\n",
    "        title = 'Information About Top 2 Competitors'\n",
    "        competitors = competitors.sort_values(by=['user_ratings_total'], ascending=False)\n",
    "        df.reset_index(drop=True, inplace=True)\n",
    "        \n",
    "        Cname1, Cname2 = competitors['name'][0], competitors['name'][1]\n",
    "        \n",
    "        Cneig1, Cneig2 = competitors['neighbhood'][0], competitors['neighbhood'][1]\n",
    "        \n",
    "        Ctype1, Ctype2 = competitors['types'][0], competitors['types'][1]\n",
    "        \n",
    "        Cchart1 = ratingGraphs([competitors['rated1'][0], competitors['rated2'][0],\n",
    "                               competitors['rated3'][0], competitors['rated4'][0], competitors['rated5'][0]])  \n",
    "        \n",
    "        Cchart2 = ratingGraphs([competitors['rated1'][1], competitors['rated2'][1],\n",
    "                               competitors['rated3'][1], competitors['rated4'][1], competitors['rated5'][1]]) \n",
    "\n",
    "    elif len(competitors)>0:\n",
    "        title = 'Information About Top Competitor'\n",
    "        Cname1 = competitors['name'][0]\n",
    "        \n",
    "        Cneig1 = competitors['neighbhood'][0]\n",
    "        \n",
    "        Ctype1 = competitors['types'][0]\n",
    "        \n",
    "        Cchart1 = ratingGraphs([competitors['rated1'][0], competitors['rated2'][0],\n",
    "                               competitors['rated3'][0], competitors['rated4'][0], competitors['rated5'][0]])  \n",
    "    else: \n",
    "        title = 'Sorry, No Information Found'\n",
    "\n",
    "    return mapR, predic, CompNum, companieNum, HotelNum, parksNum, AVGRent, agegroup, GenderGroup, title, Cname1, Ctype1, Cneig1, Cchart1, Cname2, Ctype2, Cneig2, Cchart2, Cname3, Ctype3, Cneig3, Cchart3\n",
    "\n",
    "\n",
    "##update grahs \n",
    "def Updatemap(lat, lng):\n",
    "    center = [lat, lng]\n",
    "    mapR = dl.Map(children=[dl.TileLayer(url=url, maxZoom=20, attribution=attribution), dl.Circle(center=center, radius=1500)], eventHandlers=eventHandlers,\n",
    "    style={'height': '50vh'}, center=center, zoom=11.5, id='map'), \n",
    "    return mapR\n",
    "    \n",
    "def UpdateGendergroup(values):\n",
    "    labels = ['Female Population', 'Male Population']\n",
    "    \n",
    "    GenderGroup = px.pie(values=values, names=labels,hole=.4, color_discrete_sequence=['#C7D0D7','#657889'])\n",
    "    \n",
    "    GenderGroup.update_layout(title = 'Population By Gender', showlegend=False, \n",
    "                              template=\"presentation\", title_font_family=\"Times New Roman\",\n",
    "                              font_family=\"Times New Roman\")\n",
    "    GenderGroup.update_traces(textposition='inside', textinfo='percent+label')\n",
    "    return GenderGroup\n",
    "    \n",
    "    \n",
    "def UpdateAgegroup(y,p):\n",
    "    x = ['Teens','20s', '30s','40s','50s','60s']\n",
    "    agegroup = go.Figure(go.Bar(\n",
    "            x=[40]*6, y=x, text=y,\n",
    "            textposition=\"inside\",\n",
    "            textfont=dict(color=\"black\"),\n",
    "            orientation=\"h\",\n",
    "            marker_color=\"#C7D0D7\"))\n",
    "    agegroup.add_trace(go.Bar(x=p, y=x, orientation=\"h\", marker_color=\"#657889\"))\n",
    "    \n",
    "    agegroup.update_layout(title='Age Group Distribution', barmode=\"overlay\", showlegend=False, \n",
    "                           template=\"presentation\", title_font_family=\"Times New Roman\",\n",
    "                           font_family=\"Times New Roman\")\n",
    "    \n",
    "    agegroup.update_yaxes(tickmode=\"array\", categoryorder=\"total ascending\", tickvals=x, ticktext=x, ticklabelposition=\"inside\", tickfont=dict(color=\"white\"))\n",
    "    \n",
    "    agegroup.update_xaxes(range=[0, 40], visible=False)\n",
    "    return agegroup\n",
    "\n",
    "def ratingGraphs(y):\n",
    "    x = ['Rated as 1', 'Rated as 2', 'Rated as 3', 'Rated as 4', 'Rated as 5']\n",
    "    \n",
    "    rate = px.pie(values=y, names=x, color_discrete_sequence=['#4F5B67','#C7D0D7','#657889'])\n",
    "    rate.update_layout(showlegend=False,title='Population of People Ratings',\n",
    "                          template=\"presentation\",\n",
    "                          title_font_family=\"Times New Roman\",\n",
    "                          font_family=\"Times New Roman\")\n",
    "    rate.update_traces(textposition='inside', textinfo='percent+label')\n",
    "    return rate\n",
    "\n",
    "    \n",
    "if __name__ == '__main__':\n",
    "    app.run_server()"
   ]
  },
  {
   "cell_type": "code",
   "execution_count": null,
   "id": "43e96e20-8d9f-44ce-8196-87d286cfce84",
   "metadata": {},
   "outputs": [],
   "source": []
  },
  {
   "cell_type": "code",
   "execution_count": null,
   "id": "930b5efc-c0cc-455a-be09-ca3f82ab4c77",
   "metadata": {},
   "outputs": [],
   "source": []
  }
 ],
 "metadata": {
  "kernelspec": {
   "display_name": "Python 3 (ipykernel)",
   "language": "python",
   "name": "python3"
  },
  "language_info": {
   "codemirror_mode": {
    "name": "ipython",
    "version": 3
   },
   "file_extension": ".py",
   "mimetype": "text/x-python",
   "name": "python",
   "nbconvert_exporter": "python",
   "pygments_lexer": "ipython3",
   "version": "3.11.5"
  }
 },
 "nbformat": 4,
 "nbformat_minor": 5
}
